{
  "nbformat": 4,
  "nbformat_minor": 0,
  "metadata": {
    "colab": {
      "provenance": [],
      "authorship_tag": "ABX9TyO8P7biGWNUr2cl7Qb8pZIo",
      "include_colab_link": true
    },
    "kernelspec": {
      "name": "python3",
      "display_name": "Python 3"
    },
    "language_info": {
      "name": "python"
    }
  },
  "cells": [
    {
      "cell_type": "markdown",
      "metadata": {
        "id": "view-in-github",
        "colab_type": "text"
      },
      "source": [
        "<a href=\"https://colab.research.google.com/github/KODURISRIHARI/Pypdf_Spacy_Nltk_TEXT_preprocessing/blob/main/PyPDF2_Spacy_Nltk_Library.ipynb\" target=\"_parent\"><img src=\"https://colab.research.google.com/assets/colab-badge.svg\" alt=\"Open In Colab\"/></a>"
      ]
    },
    {
      "cell_type": "code",
      "source": [
        "!pip install PyPDF2"
      ],
      "metadata": {
        "id": "T2NVp6XsvQ0t",
        "colab": {
          "base_uri": "https://localhost:8080/"
        },
        "outputId": "958696fd-db61-4a05-ced8-5cd6c8e015c9"
      },
      "execution_count": null,
      "outputs": [
        {
          "output_type": "stream",
          "name": "stdout",
          "text": [
            "Collecting PyPDF2\n",
            "  Downloading pypdf2-3.0.1-py3-none-any.whl.metadata (6.8 kB)\n",
            "Downloading pypdf2-3.0.1-py3-none-any.whl (232 kB)\n",
            "\u001b[2K   \u001b[90m━━━━━━━━━━━━━━━━━━━━━━━━━━━━━━━━━━━━━━━━\u001b[0m \u001b[32m232.6/232.6 kB\u001b[0m \u001b[31m4.5 MB/s\u001b[0m eta \u001b[36m0:00:00\u001b[0m\n",
            "\u001b[?25hInstalling collected packages: PyPDF2\n",
            "Successfully installed PyPDF2-3.0.1\n"
          ]
        }
      ]
    },
    {
      "cell_type": "code",
      "source": [
        "file = open('/content/1.Celonis Process Mining  Fundamentals Course Enrollment.pdf','rb')\n"
      ],
      "metadata": {
        "id": "Ek7k0SxK6YTr"
      },
      "execution_count": null,
      "outputs": []
    },
    {
      "cell_type": "code",
      "source": [
        "import PyPDF2"
      ],
      "metadata": {
        "id": "lppz_oeA69k0"
      },
      "execution_count": null,
      "outputs": []
    },
    {
      "cell_type": "code",
      "source": [
        "pdf_reader  = PyPDF2.PdfReader(file)\n",
        "\n",
        "num_pages = len(pdf_reader.pages)\n",
        "print(f\"Number of pages: {num_pages}\") #number of pages available in that page"
      ],
      "metadata": {
        "colab": {
          "base_uri": "https://localhost:8080/"
        },
        "id": "Kx7KgLFG7CS5",
        "outputId": "3864b96e-8e34-4afe-b7f1-6580c19a6ad1"
      },
      "execution_count": null,
      "outputs": [
        {
          "output_type": "stream",
          "name": "stdout",
          "text": [
            "Number of pages: 72\n"
          ]
        }
      ]
    },
    {
      "cell_type": "code",
      "source": [
        "page_one = pdf_reader.pages[1]\n",
        "page_one_textual_data = page_one.extract_text()\n",
        "page_one_textual_data"
      ],
      "metadata": {
        "colab": {
          "base_uri": "https://localhost:8080/",
          "height": 53
        },
        "id": "KOmSLuek7cRY",
        "outputId": "633836fd-1068-41c4-c6ce-2b24fc75bbe3"
      },
      "execution_count": null,
      "outputs": [
        {
          "output_type": "execute_result",
          "data": {
            "text/plain": [
              "'Step:1Click on the link below and select the Not a member ? Sign Up option as indicated.\\nLink:  https://academy-login.celonis.com/s/login/ '"
            ],
            "application/vnd.google.colaboratory.intrinsic+json": {
              "type": "string"
            }
          },
          "metadata": {},
          "execution_count": 12
        }
      ]
    },
    {
      "cell_type": "markdown",
      "source": [
        "#Adding pages"
      ],
      "metadata": {
        "id": "vgJm90fO9Z_P"
      }
    },
    {
      "cell_type": "code",
      "source": [
        "file2 = open('/content/1.Celonis Process Mining  Fundamentals Course Enrollment.pdf','rb')"
      ],
      "metadata": {
        "id": "d1-sw4dw9ZWR"
      },
      "execution_count": null,
      "outputs": []
    },
    {
      "cell_type": "code",
      "source": [
        "file_reader = PyPDF2.PdfReader(file2)"
      ],
      "metadata": {
        "id": "1UJDiG1a8-jY"
      },
      "execution_count": null,
      "outputs": []
    },
    {
      "cell_type": "code",
      "source": [
        "page_onw1 = file_reader.pages[1]\n",
        "page_one1_text = page_onw1.extract_text()\n",
        "page_one1_text"
      ],
      "metadata": {
        "colab": {
          "base_uri": "https://localhost:8080/",
          "height": 53
        },
        "id": "JblhFGCD93Zt",
        "outputId": "ff2a1a48-fa55-4a14-9fed-261d2132b71e"
      },
      "execution_count": null,
      "outputs": [
        {
          "output_type": "execute_result",
          "data": {
            "text/plain": [
              "'Step:1Click on the link below and select the Not a member ? Sign Up option as indicated.\\nLink:  https://academy-login.celonis.com/s/login/ '"
            ],
            "application/vnd.google.colaboratory.intrinsic+json": {
              "type": "string"
            }
          },
          "metadata": {},
          "execution_count": 17
        }
      ]
    },
    {
      "cell_type": "code",
      "source": [
        "pdf_writer = PyPDF2.PdfWriter()\n",
        "pdf_writer.add_page(page_onw1)"
      ],
      "metadata": {
        "colab": {
          "base_uri": "https://localhost:8080/"
        },
        "id": "KQRKhH-a-Tm5",
        "outputId": "7b8d755d-7ca0-4f7b-97ba-06d37bb75d32"
      },
      "execution_count": null,
      "outputs": [
        {
          "output_type": "execute_result",
          "data": {
            "text/plain": [
              "{'/Contents': [IndirectObject(5, 0, 135713767550992)],\n",
              " '/CropBox': [0, 0, 792, 612],\n",
              " '/MediaBox': [0, 0, 792, 612],\n",
              " '/Resources': {'/Font': {'/F1': {'/BaseFont': '/CIDFont+F1',\n",
              "    '/DescendantFonts': [{'/BaseFont': '/CIDFont+F1',\n",
              "      '/CIDSystemInfo': {'/Ordering': 'Identity',\n",
              "       '/Registry': 'Adobe',\n",
              "       '/Supplement': 0},\n",
              "      '/CIDToGIDMap': '/Identity',\n",
              "      '/FontDescriptor': {'/Ascent': 952,\n",
              "       '/CapHeight': 631,\n",
              "       '/Descent': -268,\n",
              "       '/Flags': 6,\n",
              "       '/FontBBox': [-906, -268, 906, 952],\n",
              "       '/FontFile2': {'/Filter': '/FlateDecode',\n",
              "        '/Length1': 608524,\n",
              "        '/Type': '/Stream'},\n",
              "       '/FontName': '/CIDFont+F1',\n",
              "       '/ItalicAngle': 0,\n",
              "       '/StemV': 906,\n",
              "       '/Type': '/FontDescriptor'},\n",
              "      '/Subtype': '/CIDFontType2',\n",
              "      '/Type': '/Font',\n",
              "      '/W': [3,\n",
              "       3,\n",
              "       226,\n",
              "       4,\n",
              "       4,\n",
              "       605,\n",
              "       17,\n",
              "       17,\n",
              "       560,\n",
              "       18,\n",
              "       18,\n",
              "       529,\n",
              "       24,\n",
              "       24,\n",
              "       630,\n",
              "       28,\n",
              "       28,\n",
              "       487,\n",
              "       38,\n",
              "       38,\n",
              "       458,\n",
              "       39,\n",
              "       39,\n",
              "       637,\n",
              "       44,\n",
              "       44,\n",
              "       630,\n",
              "       47,\n",
              "       47,\n",
              "       266,\n",
              "       60,\n",
              "       60,\n",
              "       546,\n",
              "       62,\n",
              "       62,\n",
              "       422,\n",
              "       68,\n",
              "       68,\n",
              "       874,\n",
              "       69,\n",
              "       69,\n",
              "       658,\n",
              "       75,\n",
              "       75,\n",
              "       676,\n",
              "       87,\n",
              "       87,\n",
              "       532,\n",
              "       90,\n",
              "       90,\n",
              "       562,\n",
              "       94,\n",
              "       94,\n",
              "       472,\n",
              "       100,\n",
              "       100,\n",
              "       495,\n",
              "       104,\n",
              "       104,\n",
              "       652,\n",
              "       115,\n",
              "       115,\n",
              "       591,\n",
              "       116,\n",
              "       116,\n",
              "       906,\n",
              "       122,\n",
              "       122,\n",
              "       519,\n",
              "       258,\n",
              "       258,\n",
              "       493,\n",
              "       271,\n",
              "       271,\n",
              "       536,\n",
              "       272,\n",
              "       272,\n",
              "       418,\n",
              "       282,\n",
              "       282,\n",
              "       536,\n",
              "       286,\n",
              "       286,\n",
              "       503,\n",
              "       296,\n",
              "       296,\n",
              "       316,\n",
              "       336,\n",
              "       336,\n",
              "       474,\n",
              "       346,\n",
              "       346,\n",
              "       536,\n",
              "       349,\n",
              "       349,\n",
              "       245,\n",
              "       361,\n",
              "       361,\n",
              "       255,\n",
              "       364,\n",
              "       364,\n",
              "       479,\n",
              "       367,\n",
              "       367,\n",
              "       245,\n",
              "       373,\n",
              "       373,\n",
              "       813,\n",
              "       374,\n",
              "       374,\n",
              "       536,\n",
              "       381,\n",
              "       381,\n",
              "       537,\n",
              "       393,\n",
              "       393,\n",
              "       536,\n",
              "       395,\n",
              "       395,\n",
              "       536,\n",
              "       396,\n",
              "       396,\n",
              "       355,\n",
              "       400,\n",
              "       400,\n",
              "       398,\n",
              "       410,\n",
              "       410,\n",
              "       346,\n",
              "       437,\n",
              "       437,\n",
              "       536,\n",
              "       448,\n",
              "       448,\n",
              "       473,\n",
              "       449,\n",
              "       449,\n",
              "       745,\n",
              "       454,\n",
              "       454,\n",
              "       459,\n",
              "       455,\n",
              "       455,\n",
              "       473,\n",
              "       460,\n",
              "       460,\n",
              "       397,\n",
              "       845,\n",
              "       845,\n",
              "       463,\n",
              "       853,\n",
              "       853,\n",
              "       257,\n",
              "       855,\n",
              "       855,\n",
              "       275,\n",
              "       856,\n",
              "       856,\n",
              "       267,\n",
              "       859,\n",
              "       859,\n",
              "       257,\n",
              "       863,\n",
              "       863,\n",
              "       435,\n",
              "       876,\n",
              "       876,\n",
              "       429,\n",
              "       882,\n",
              "       882,\n",
              "       306,\n",
              "       894,\n",
              "       894,\n",
              "       311,\n",
              "       895,\n",
              "       895,\n",
              "       311,\n",
              "       1004,\n",
              "       1004,\n",
              "       506,\n",
              "       1005,\n",
              "       1005,\n",
              "       506,\n",
              "       1006,\n",
              "       1006,\n",
              "       506,\n",
              "       1007,\n",
              "       1007,\n",
              "       506,\n",
              "       1008,\n",
              "       1008,\n",
              "       506,\n",
              "       1009,\n",
              "       1009,\n",
              "       506,\n",
              "       1010,\n",
              "       1010,\n",
              "       506,\n",
              "       1011,\n",
              "       1011,\n",
              "       506,\n",
              "       1012,\n",
              "       1012,\n",
              "       506,\n",
              "       1013,\n",
              "       1013,\n",
              "       506]}],\n",
              "    '/Encoding': '/Identity-H',\n",
              "    '/Subtype': '/Type0',\n",
              "    '/ToUnicode': {},\n",
              "    '/Type': '/Font'},\n",
              "   '/F2': {'/BaseFont': '/CIDFont+F2',\n",
              "    '/DescendantFonts': [{'/BaseFont': '/CIDFont+F2',\n",
              "      '/CIDSystemInfo': {'/Ordering': 'Identity',\n",
              "       '/Registry': 'Adobe',\n",
              "       '/Supplement': 0},\n",
              "      '/CIDToGIDMap': '/Identity',\n",
              "      '/FontDescriptor': {'/Ascent': 952,\n",
              "       '/CapHeight': 631,\n",
              "       '/Descent': -268,\n",
              "       '/Flags': 6,\n",
              "       '/FontBBox': [-894, -268, 894, 952],\n",
              "       '/FontFile2': {'/Filter': '/FlateDecode',\n",
              "        '/Length1': 624736,\n",
              "        '/Type': '/Stream'},\n",
              "       '/FontName': '/CIDFont+F2',\n",
              "       '/ItalicAngle': 0,\n",
              "       '/StemV': 894,\n",
              "       '/Type': '/FontDescriptor'},\n",
              "      '/Subtype': '/CIDFontType2',\n",
              "      '/Type': '/Font',\n",
              "      '/W': [3,\n",
              "       3,\n",
              "       226,\n",
              "       4,\n",
              "       4,\n",
              "       578,\n",
              "       17,\n",
              "       17,\n",
              "       543,\n",
              "       18,\n",
              "       18,\n",
              "       533,\n",
              "       24,\n",
              "       24,\n",
              "       615,\n",
              "       28,\n",
              "       28,\n",
              "       488,\n",
              "       38,\n",
              "       38,\n",
              "       459,\n",
              "       47,\n",
              "       47,\n",
              "       251,\n",
              "       58,\n",
              "       58,\n",
              "       318,\n",
              "       60,\n",
              "       60,\n",
              "       519,\n",
              "       62,\n",
              "       62,\n",
              "       420,\n",
              "       68,\n",
              "       68,\n",
              "       854,\n",
              "       69,\n",
              "       69,\n",
              "       645,\n",
              "       75,\n",
              "       75,\n",
              "       662,\n",
              "       87,\n",
              "       87,\n",
              "       516,\n",
              "       90,\n",
              "       90,\n",
              "       542,\n",
              "       94,\n",
              "       94,\n",
              "       459,\n",
              "       100,\n",
              "       100,\n",
              "       487,\n",
              "       104,\n",
              "       104,\n",
              "       641,\n",
              "       116,\n",
              "       116,\n",
              "       889,\n",
              "       122,\n",
              "       122,\n",
              "       487,\n",
              "       127,\n",
              "       127,\n",
              "       468,\n",
              "       258,\n",
              "       258,\n",
              "       479,\n",
              "       271,\n",
              "       271,\n",
              "       525,\n",
              "       272,\n",
              "       272,\n",
              "       422,\n",
              "       282,\n",
              "       282,\n",
              "       525,\n",
              "       286,\n",
              "       286,\n",
              "       497,\n",
              "       296,\n",
              "       296,\n",
              "       305,\n",
              "       336,\n",
              "       336,\n",
              "       470,\n",
              "       346,\n",
              "       346,\n",
              "       525,\n",
              "       349,\n",
              "       349,\n",
              "       229,\n",
              "       361,\n",
              "       361,\n",
              "       239,\n",
              "       364,\n",
              "       364,\n",
              "       454,\n",
              "       367,\n",
              "       367,\n",
              "       229,\n",
              "       373,\n",
              "       373,\n",
              "       798,\n",
              "       374,\n",
              "       374,\n",
              "       525,\n",
              "       381,\n",
              "       381,\n",
              "       527,\n",
              "       393,\n",
              "       393,\n",
              "       525,\n",
              "       395,\n",
              "       395,\n",
              "       525,\n",
              "       396,\n",
              "       396,\n",
              "       348,\n",
              "       400,\n",
              "       400,\n",
              "       391,\n",
              "       410,\n",
              "       410,\n",
              "       334,\n",
              "       437,\n",
              "       437,\n",
              "       525,\n",
              "       448,\n",
              "       448,\n",
              "       451,\n",
              "       449,\n",
              "       449,\n",
              "       714,\n",
              "       454,\n",
              "       454,\n",
              "       433,\n",
              "       455,\n",
              "       455,\n",
              "       452,\n",
              "       845,\n",
              "       845,\n",
              "       463,\n",
              "       853,\n",
              "       853,\n",
              "       249,\n",
              "       855,\n",
              "       855,\n",
              "       267,\n",
              "       856,\n",
              "       856,\n",
              "       252,\n",
              "       857,\n",
              "       857,\n",
              "       690,\n",
              "       862,\n",
              "       862,\n",
              "       418,\n",
              "       863,\n",
              "       863,\n",
              "       418,\n",
              "       876,\n",
              "       876,\n",
              "       386,\n",
              "       882,\n",
              "       882,\n",
              "       306,\n",
              "       890,\n",
              "       890,\n",
              "       498,\n",
              "       894,\n",
              "       894,\n",
              "       303,\n",
              "       895,\n",
              "       895,\n",
              "       303,\n",
              "       920,\n",
              "       920,\n",
              "       682,\n",
              "       923,\n",
              "       923,\n",
              "       894,\n",
              "       1004,\n",
              "       1004,\n",
              "       506,\n",
              "       1005,\n",
              "       1005,\n",
              "       506,\n",
              "       1006,\n",
              "       1006,\n",
              "       506,\n",
              "       1007,\n",
              "       1007,\n",
              "       506,\n",
              "       1008,\n",
              "       1008,\n",
              "       506,\n",
              "       1009,\n",
              "       1009,\n",
              "       506,\n",
              "       1010,\n",
              "       1010,\n",
              "       506,\n",
              "       1011,\n",
              "       1011,\n",
              "       506,\n",
              "       1012,\n",
              "       1012,\n",
              "       506,\n",
              "       1013,\n",
              "       1013,\n",
              "       506,\n",
              "       1081,\n",
              "       1081,\n",
              "       714,\n",
              "       1089,\n",
              "       1089,\n",
              "       498]}],\n",
              "    '/Encoding': '/Identity-H',\n",
              "    '/Subtype': '/Type0',\n",
              "    '/ToUnicode': {},\n",
              "    '/Type': '/Font'}},\n",
              "  '/XObject': {'/Image1': {'/BitsPerComponent': 8,\n",
              "    '/ColorSpace': '/DeviceRGB',\n",
              "    '/Filter': '/DCTDecode',\n",
              "    '/Height': 727,\n",
              "    '/Subtype': '/Image',\n",
              "    '/Type': '/XObject',\n",
              "    '/Width': 1355}}},\n",
              " '/Rotate': 0,\n",
              " '/Type': '/Page',\n",
              " '/Parent': {'/Type': '/Pages',\n",
              "  '/Count': 1,\n",
              "  '/Kids': [IndirectObject(4, 0, 135713767550992)]}}"
            ]
          },
          "metadata": {},
          "execution_count": 18
        }
      ]
    },
    {
      "cell_type": "code",
      "source": [
        "pdf_output_1 = open('new_file.pdf','wb')\n",
        "pdf_writer.write(pdf_output_1)\n",
        "pdf_output_1.close()"
      ],
      "metadata": {
        "id": "JR26Ee84_G3W"
      },
      "execution_count": null,
      "outputs": []
    },
    {
      "cell_type": "code",
      "source": [
        "file2.close()"
      ],
      "metadata": {
        "id": "UsJtPm0F_R1s"
      },
      "execution_count": null,
      "outputs": []
    },
    {
      "cell_type": "markdown",
      "source": [
        "#Starting to work on Spacy Library"
      ],
      "metadata": {
        "id": "2970F-h0_VX5"
      }
    },
    {
      "cell_type": "code",
      "source": [
        "import spacy.cli\n",
        "spacy.cli.download(\"en_core_web_sm\")"
      ],
      "metadata": {
        "colab": {
          "base_uri": "https://localhost:8080/"
        },
        "id": "-kvAiOFvBG6A",
        "outputId": "4ad6164d-abf1-4614-b24e-fafb016669c2"
      },
      "execution_count": null,
      "outputs": [
        {
          "output_type": "stream",
          "name": "stdout",
          "text": [
            "\u001b[38;5;2m✔ Download and installation successful\u001b[0m\n",
            "You can now load the package via spacy.load('en_core_web_sm')\n",
            "\u001b[38;5;3m⚠ Restart to reload dependencies\u001b[0m\n",
            "If you are in a Jupyter or Colab notebook, you may need to restart Python in\n",
            "order to load all the package's dependencies. You can do this by selecting the\n",
            "'Restart kernel' or 'Restart runtime' option.\n"
          ]
        }
      ]
    },
    {
      "cell_type": "code",
      "source": [
        "import spacy.cli\n",
        "nlp = spacy.load('en_core_web_sm')"
      ],
      "metadata": {
        "id": "6VdqlmBXBOpt"
      },
      "execution_count": null,
      "outputs": []
    },
    {
      "cell_type": "code",
      "source": [
        "type(nlp)"
      ],
      "metadata": {
        "colab": {
          "base_uri": "https://localhost:8080/",
          "height": 205
        },
        "id": "7xmDYsSmC431",
        "outputId": "80badff6-a70b-40e4-f81f-625b63e6a4bf"
      },
      "execution_count": null,
      "outputs": [
        {
          "output_type": "execute_result",
          "data": {
            "text/plain": [
              "spacy.lang.en.English"
            ],
            "text/html": [
              "<div style=\"max-width:800px; border: 1px solid var(--colab-border-color);\"><style>\n",
              "      pre.function-repr-contents {\n",
              "        overflow-x: auto;\n",
              "        padding: 8px 12px;\n",
              "        max-height: 500px;\n",
              "      }\n",
              "\n",
              "      pre.function-repr-contents.function-repr-contents-collapsed {\n",
              "        cursor: pointer;\n",
              "        max-height: 100px;\n",
              "      }\n",
              "    </style>\n",
              "    <pre style=\"white-space: initial; background:\n",
              "         var(--colab-secondary-surface-color); padding: 8px 12px;\n",
              "         border-bottom: 1px solid var(--colab-border-color);\"><b>spacy.lang.en.English</b><br/>def __call__(text: Union[str, Doc], *, disable: Iterable[str]=SimpleFrozenList(), component_cfg: Optional[Dict[str, Dict[str, Any]]]=None) -&gt; Doc</pre><pre class=\"function-repr-contents function-repr-contents-collapsed\" style=\"\"><a class=\"filepath\" style=\"display:none\" href=\"#\">/usr/local/lib/python3.11/dist-packages/spacy/lang/en/__init__.py</a>A text-processing pipeline. Usually you&#x27;ll load this once per process,\n",
              "and pass the instance around your application.\n",
              "\n",
              "Defaults (class): Settings, data and factory methods for creating the `nlp`\n",
              "    object and processing pipeline.\n",
              "lang (str): IETF language code, such as &#x27;en&#x27;.\n",
              "\n",
              "DOCS: https://spacy.io/api/language</pre>\n",
              "      <script>\n",
              "      if (google.colab.kernel.accessAllowed && google.colab.files && google.colab.files.view) {\n",
              "        for (const element of document.querySelectorAll('.filepath')) {\n",
              "          element.style.display = 'block'\n",
              "          element.onclick = (event) => {\n",
              "            event.preventDefault();\n",
              "            event.stopPropagation();\n",
              "            google.colab.files.view(element.textContent, 22);\n",
              "          };\n",
              "        }\n",
              "      }\n",
              "      for (const element of document.querySelectorAll('.function-repr-contents')) {\n",
              "        element.onclick = (event) => {\n",
              "          event.preventDefault();\n",
              "          event.stopPropagation();\n",
              "          element.classList.toggle('function-repr-contents-collapsed');\n",
              "        };\n",
              "      }\n",
              "      </script>\n",
              "      </div>"
            ]
          },
          "metadata": {},
          "execution_count": 24
        }
      ]
    },
    {
      "cell_type": "code",
      "source": [
        "nlp.pipeline"
      ],
      "metadata": {
        "colab": {
          "base_uri": "https://localhost:8080/"
        },
        "id": "rj7O6V0VC6Rs",
        "outputId": "ec88a4a7-5897-4bbb-91b7-76f91e84fac9"
      },
      "execution_count": null,
      "outputs": [
        {
          "output_type": "execute_result",
          "data": {
            "text/plain": [
              "[('tok2vec', <spacy.pipeline.tok2vec.Tok2Vec at 0x7b6d78833d10>),\n",
              " ('tagger', <spacy.pipeline.tagger.Tagger at 0x7b6d78832ff0>),\n",
              " ('parser', <spacy.pipeline.dep_parser.DependencyParser at 0x7b6d7892dbd0>),\n",
              " ('attribute_ruler',\n",
              "  <spacy.pipeline.attributeruler.AttributeRuler at 0x7b6d78f98d10>),\n",
              " ('lemmatizer',\n",
              "  <spacy.lang.en.lemmatizer.EnglishLemmatizer at 0x7b6d7865da90>),\n",
              " ('ner', <spacy.pipeline.ner.EntityRecognizer at 0x7b6d7892dc40>)]"
            ]
          },
          "metadata": {},
          "execution_count": 25
        }
      ]
    },
    {
      "cell_type": "markdown",
      "source": [
        "#Tokenizer\n",
        "the first step is to split the data into words or punctuation or tokens"
      ],
      "metadata": {
        "id": "3gcRZ0bJH-eo"
      }
    },
    {
      "cell_type": "code",
      "source": [
        "doc = nlp(\"Srihari is a good boy in the world! as per he's perspective\")\n",
        "\n",
        "for token in doc:\n",
        "  print(token.text, token.pos_, token.dep_)"
      ],
      "metadata": {
        "colab": {
          "base_uri": "https://localhost:8080/"
        },
        "id": "0b1FzM0QJKA9",
        "outputId": "9bc4b16d-6af4-4fc5-a7b6-4a546cb2224a"
      },
      "execution_count": null,
      "outputs": [
        {
          "output_type": "stream",
          "name": "stdout",
          "text": [
            "Srihari PROPN nsubj\n",
            "is AUX ROOT\n",
            "a DET det\n",
            "good ADJ amod\n",
            "boy NOUN attr\n",
            "in ADP prep\n",
            "the DET det\n",
            "world NOUN pobj\n",
            "! PUNCT punct\n",
            "as ADP prep\n",
            "per ADP prep\n",
            "he PRON nsubj\n",
            "'s AUX ROOT\n",
            "perspective NOUN attr\n"
          ]
        }
      ]
    },
    {
      "cell_type": "code",
      "source": [
        "spacy.explain(\"nsubj\")"
      ],
      "metadata": {
        "colab": {
          "base_uri": "https://localhost:8080/",
          "height": 36
        },
        "id": "nlmp3O2IJxFk",
        "outputId": "7d5c4a33-9a52-4e20-ff17-19c29020fb5a"
      },
      "execution_count": null,
      "outputs": [
        {
          "output_type": "execute_result",
          "data": {
            "text/plain": [
              "'nominal subject'"
            ],
            "application/vnd.google.colaboratory.intrinsic+json": {
              "type": "string"
            }
          },
          "metadata": {},
          "execution_count": 33
        }
      ]
    },
    {
      "cell_type": "code",
      "source": [
        "spacy.explain(\"amod\")"
      ],
      "metadata": {
        "colab": {
          "base_uri": "https://localhost:8080/",
          "height": 36
        },
        "id": "hfUGEWokKVdU",
        "outputId": "e71bce66-25aa-499d-efb9-e0750157b2e9"
      },
      "execution_count": null,
      "outputs": [
        {
          "output_type": "execute_result",
          "data": {
            "text/plain": [
              "'adjectival modifier'"
            ],
            "application/vnd.google.colaboratory.intrinsic+json": {
              "type": "string"
            }
          },
          "metadata": {},
          "execution_count": 34
        }
      ]
    },
    {
      "cell_type": "code",
      "source": [
        "doc"
      ],
      "metadata": {
        "colab": {
          "base_uri": "https://localhost:8080/"
        },
        "id": "Jp_LhI1pKiBC",
        "outputId": "ce226d32-e950-4cc1-c6a9-9073318626b2"
      },
      "execution_count": null,
      "outputs": [
        {
          "output_type": "execute_result",
          "data": {
            "text/plain": [
              "Srihari is a good boy in the world! as per he's perspective"
            ]
          },
          "metadata": {},
          "execution_count": 35
        }
      ]
    },
    {
      "cell_type": "code",
      "source": [
        "print(type(doc))"
      ],
      "metadata": {
        "colab": {
          "base_uri": "https://localhost:8080/"
        },
        "id": "yWRpxTgFKm36",
        "outputId": "ac2e8de1-db60-4ec0-d7cf-85e198d93516"
      },
      "execution_count": null,
      "outputs": [
        {
          "output_type": "stream",
          "name": "stdout",
          "text": [
            "<class 'spacy.tokens.doc.Doc'>\n"
          ]
        }
      ]
    },
    {
      "cell_type": "markdown",
      "source": [
        "#parts of speech"
      ],
      "metadata": {
        "id": "KhveFeU5Kuh5"
      }
    },
    {
      "cell_type": "code",
      "source": [
        "doc[0].pos_"
      ],
      "metadata": {
        "colab": {
          "base_uri": "https://localhost:8080/",
          "height": 36
        },
        "id": "s4V-mOZSKykS",
        "outputId": "0ec11320-25d1-4476-a586-e2981d299eb1"
      },
      "execution_count": null,
      "outputs": [
        {
          "output_type": "execute_result",
          "data": {
            "text/plain": [
              "'PROPN'"
            ],
            "application/vnd.google.colaboratory.intrinsic+json": {
              "type": "string"
            }
          },
          "metadata": {},
          "execution_count": 39
        }
      ]
    },
    {
      "cell_type": "code",
      "source": [
        "spacy.explain('PROPN')"
      ],
      "metadata": {
        "colab": {
          "base_uri": "https://localhost:8080/",
          "height": 36
        },
        "id": "exTntJU5K1aY",
        "outputId": "63d0e1d2-f931-44da-ddc8-5e511b3b73e6"
      },
      "execution_count": null,
      "outputs": [
        {
          "output_type": "execute_result",
          "data": {
            "text/plain": [
              "'proper noun'"
            ],
            "application/vnd.google.colaboratory.intrinsic+json": {
              "type": "string"
            }
          },
          "metadata": {},
          "execution_count": 40
        }
      ]
    },
    {
      "cell_type": "code",
      "source": [
        "doc[4].pos_"
      ],
      "metadata": {
        "colab": {
          "base_uri": "https://localhost:8080/",
          "height": 36
        },
        "id": "qAHSOZo3K_xf",
        "outputId": "c0b8063d-dce0-4c12-f41b-8c2d33ab41c1"
      },
      "execution_count": null,
      "outputs": [
        {
          "output_type": "execute_result",
          "data": {
            "text/plain": [
              "'NOUN'"
            ],
            "application/vnd.google.colaboratory.intrinsic+json": {
              "type": "string"
            }
          },
          "metadata": {},
          "execution_count": 42
        }
      ]
    },
    {
      "cell_type": "markdown",
      "source": [
        "#Dependencies"
      ],
      "metadata": {
        "id": "e7rChqRYLC3n"
      }
    },
    {
      "cell_type": "code",
      "source": [
        "doc[0].dep_"
      ],
      "metadata": {
        "colab": {
          "base_uri": "https://localhost:8080/",
          "height": 36
        },
        "id": "E23-c8bXLI8X",
        "outputId": "06f7d65c-0111-417f-868a-997909301199"
      },
      "execution_count": null,
      "outputs": [
        {
          "output_type": "execute_result",
          "data": {
            "text/plain": [
              "'nsubj'"
            ],
            "application/vnd.google.colaboratory.intrinsic+json": {
              "type": "string"
            }
          },
          "metadata": {},
          "execution_count": 44
        }
      ]
    },
    {
      "cell_type": "code",
      "source": [
        "spacy.explain('nsubj')"
      ],
      "metadata": {
        "colab": {
          "base_uri": "https://localhost:8080/",
          "height": 36
        },
        "id": "SbkMT_vkLNY3",
        "outputId": "3ea84674-454b-460f-f417-79416eb38123"
      },
      "execution_count": null,
      "outputs": [
        {
          "output_type": "execute_result",
          "data": {
            "text/plain": [
              "'nominal subject'"
            ],
            "application/vnd.google.colaboratory.intrinsic+json": {
              "type": "string"
            }
          },
          "metadata": {},
          "execution_count": 45
        }
      ]
    },
    {
      "cell_type": "code",
      "source": [
        "doc[2].dep_"
      ],
      "metadata": {
        "colab": {
          "base_uri": "https://localhost:8080/",
          "height": 36
        },
        "id": "oq6ec8xKLSCL",
        "outputId": "27b99121-6c62-4e27-d41f-6060d58c60c9"
      },
      "execution_count": null,
      "outputs": [
        {
          "output_type": "execute_result",
          "data": {
            "text/plain": [
              "'det'"
            ],
            "application/vnd.google.colaboratory.intrinsic+json": {
              "type": "string"
            }
          },
          "metadata": {},
          "execution_count": 49
        }
      ]
    },
    {
      "cell_type": "code",
      "source": [
        "spacy.explain('det')"
      ],
      "metadata": {
        "colab": {
          "base_uri": "https://localhost:8080/",
          "height": 36
        },
        "id": "1n4XNN0dLVdE",
        "outputId": "c3ccca3a-e69b-4baf-8746-40a5de28be7b"
      },
      "execution_count": null,
      "outputs": [
        {
          "output_type": "execute_result",
          "data": {
            "text/plain": [
              "'determiner'"
            ],
            "application/vnd.google.colaboratory.intrinsic+json": {
              "type": "string"
            }
          },
          "metadata": {},
          "execution_count": 47
        }
      ]
    },
    {
      "cell_type": "code",
      "source": [
        "doc"
      ],
      "metadata": {
        "colab": {
          "base_uri": "https://localhost:8080/"
        },
        "id": "EaeRkuZ3LYwj",
        "outputId": "acaa75f3-dace-46b3-e631-a52c4074137d"
      },
      "execution_count": null,
      "outputs": [
        {
          "output_type": "execute_result",
          "data": {
            "text/plain": [
              "Srihari is a good boy in the world! as per he's perspective"
            ]
          },
          "metadata": {},
          "execution_count": 50
        }
      ]
    },
    {
      "cell_type": "code",
      "source": [
        "doc[3].text"
      ],
      "metadata": {
        "colab": {
          "base_uri": "https://localhost:8080/",
          "height": 36
        },
        "id": "b4Ox4xFJLhJR",
        "outputId": "28a203fb-7129-4f67-c43e-a74d873f8204"
      },
      "execution_count": null,
      "outputs": [
        {
          "output_type": "execute_result",
          "data": {
            "text/plain": [
              "'good'"
            ],
            "application/vnd.google.colaboratory.intrinsic+json": {
              "type": "string"
            }
          },
          "metadata": {},
          "execution_count": 52
        }
      ]
    },
    {
      "cell_type": "markdown",
      "source": [
        "#lematization"
      ],
      "metadata": {
        "id": "u_H4TbE2Lldg"
      }
    },
    {
      "cell_type": "code",
      "source": [
        "doc[3].lemma_"
      ],
      "metadata": {
        "colab": {
          "base_uri": "https://localhost:8080/",
          "height": 36
        },
        "id": "pIKerDYdLu4g",
        "outputId": "1b962c5d-eaeb-4bdd-ee94-5daac03b056b"
      },
      "execution_count": null,
      "outputs": [
        {
          "output_type": "execute_result",
          "data": {
            "text/plain": [
              "'good'"
            ],
            "application/vnd.google.colaboratory.intrinsic+json": {
              "type": "string"
            }
          },
          "metadata": {},
          "execution_count": 58
        }
      ]
    },
    {
      "cell_type": "markdown",
      "source": [
        "## is alphabatical or not"
      ],
      "metadata": {
        "id": "MoQocSZaMXvA"
      }
    },
    {
      "cell_type": "code",
      "source": [
        "doc[-1].is_alpha"
      ],
      "metadata": {
        "colab": {
          "base_uri": "https://localhost:8080/"
        },
        "id": "D-arQY0wMYYC",
        "outputId": "7b5b122e-fa6c-42f3-a6ab-0430161c72f8"
      },
      "execution_count": null,
      "outputs": [
        {
          "output_type": "execute_result",
          "data": {
            "text/plain": [
              "True"
            ]
          },
          "metadata": {},
          "execution_count": 63
        }
      ]
    },
    {
      "cell_type": "markdown",
      "source": [
        "#stemming"
      ],
      "metadata": {
        "id": "P19dHbhcLzsa"
      }
    },
    {
      "cell_type": "code",
      "source": [
        "doc[3].stem_"
      ],
      "metadata": {
        "colab": {
          "base_uri": "https://localhost:8080/",
          "height": 141
        },
        "id": "wsdf_dXmMOgd",
        "outputId": "dfea7ca6-ddf7-428b-aebc-7b919e387862"
      },
      "execution_count": null,
      "outputs": [
        {
          "output_type": "error",
          "ename": "AttributeError",
          "evalue": "'spacy.tokens.token.Token' object has no attribute 'stem_'",
          "traceback": [
            "\u001b[0;31m---------------------------------------------------------------------------\u001b[0m",
            "\u001b[0;31mAttributeError\u001b[0m                            Traceback (most recent call last)",
            "\u001b[0;32m<ipython-input-65-234ac32eb73f>\u001b[0m in \u001b[0;36m<cell line: 0>\u001b[0;34m()\u001b[0m\n\u001b[0;32m----> 1\u001b[0;31m \u001b[0mdoc\u001b[0m\u001b[0;34m[\u001b[0m\u001b[0;36m3\u001b[0m\u001b[0;34m]\u001b[0m\u001b[0;34m.\u001b[0m\u001b[0mstem_\u001b[0m\u001b[0;34m\u001b[0m\u001b[0;34m\u001b[0m\u001b[0m\n\u001b[0m",
            "\u001b[0;31mAttributeError\u001b[0m: 'spacy.tokens.token.Token' object has no attribute 'stem_'"
          ]
        }
      ]
    },
    {
      "cell_type": "markdown",
      "source": [
        "#stemming i not available in spacy library for that we need to use nltk"
      ],
      "metadata": {
        "id": "V6a-Jhe0MR66"
      }
    },
    {
      "cell_type": "markdown",
      "source": [
        "#Stop words or not like [ex: a,is, the,be , there , been,etc....]"
      ],
      "metadata": {
        "id": "3k4R_HY8NXew"
      }
    },
    {
      "cell_type": "code",
      "source": [
        "doc[1].is_stop"
      ],
      "metadata": {
        "colab": {
          "base_uri": "https://localhost:8080/"
        },
        "id": "Kj4xgQ0ONkfR",
        "outputId": "93bcabda-3811-4736-8ba2-fc1e9f967048"
      },
      "execution_count": null,
      "outputs": [
        {
          "output_type": "execute_result",
          "data": {
            "text/plain": [
              "True"
            ]
          },
          "metadata": {},
          "execution_count": 66
        }
      ]
    },
    {
      "cell_type": "code",
      "source": [
        "import spacy.cli\n",
        "nlp = spacy.load('en_core_web_sm')"
      ],
      "metadata": {
        "id": "MN81E0WZNnbC"
      },
      "execution_count": null,
      "outputs": []
    },
    {
      "cell_type": "code",
      "source": [
        "mystring = 'Welcome to the word of NLP [SPACY]'\n",
        "doc = nlp(mystring)"
      ],
      "metadata": {
        "id": "_PLF81nfY0mT"
      },
      "execution_count": null,
      "outputs": []
    },
    {
      "cell_type": "code",
      "source": [
        "for token in doc:\n",
        "  print(token.text, end='|')"
      ],
      "metadata": {
        "colab": {
          "base_uri": "https://localhost:8080/"
        },
        "id": "biOQLG_kZHQM",
        "outputId": "c326bbb9-33a1-47fd-8aa4-7d03d32bdda9"
      },
      "execution_count": null,
      "outputs": [
        {
          "output_type": "stream",
          "name": "stdout",
          "text": [
            "Welcome|to|the|word|of|NLP|[|SPACY|]|"
          ]
        }
      ]
    },
    {
      "cell_type": "code",
      "source": [
        "mystring_2 = \"we\\'re moving to L.A!\"\n",
        "doc2 = nlp(mystring_2)"
      ],
      "metadata": {
        "id": "WlXwvlu-ZU-u"
      },
      "execution_count": null,
      "outputs": []
    },
    {
      "cell_type": "code",
      "source": [
        "for token1 in doc2:\n",
        "  print(token1.text,end=' | ')"
      ],
      "metadata": {
        "colab": {
          "base_uri": "https://localhost:8080/"
        },
        "id": "rt1t50EVZjvk",
        "outputId": "9edc00d4-1ca8-49cb-b7e1-bd7b0bb0ab9e"
      },
      "execution_count": null,
      "outputs": [
        {
          "output_type": "stream",
          "name": "stdout",
          "text": [
            "we | 're | moving | to | L.A | ! | "
          ]
        }
      ]
    },
    {
      "cell_type": "markdown",
      "source": [
        "##**prefix** : characters at begining \\\n",
        "##**suffix** : characters at end \\\n",
        "##**inffix** : characters between words\\\n",
        "##**exception** : special - case rule  to split a string into several tokens from being split when punctuation ruls are applied"
      ],
      "metadata": {
        "id": "OEqser0jZrFo"
      }
    },
    {
      "cell_type": "code",
      "source": [
        "mystr = '\"lets\\'s go to N.Y.!\"'"
      ],
      "metadata": {
        "id": "HaBKI4xkebug"
      },
      "execution_count": null,
      "outputs": []
    },
    {
      "cell_type": "code",
      "source": [
        "doc3 = nlp(mystr)\n",
        "\n",
        "for token in doc3:\n",
        "  print(token.text,end=' | ')"
      ],
      "metadata": {
        "colab": {
          "base_uri": "https://localhost:8080/"
        },
        "id": "c3b3coV4eAd4",
        "outputId": "13318042-46ab-4ee2-cf17-e0b5eb6e2f44"
      },
      "execution_count": null,
      "outputs": [
        {
          "output_type": "stream",
          "name": "stdout",
          "text": [
            "\" | lets | 's | go | to | N.Y. | ! | \" | "
          ]
        }
      ]
    },
    {
      "cell_type": "code",
      "source": [
        "doc4 = nlp(\" we're here to help! send snail-mail, email support support@oursite.com or visit us at https://www.afternic.com/forsale/OURSITE.COM?utm_source=TDFS&utm_medium=sn_affiliate_click&utm_campaign=TDFS_GoDaddy_DLS&traffic_type=TDFS&traffic_id=GoDaddy_DLS\")\n",
        "for t in doc4:\n",
        "  print(t.text,)"
      ],
      "metadata": {
        "colab": {
          "base_uri": "https://localhost:8080/"
        },
        "id": "PM2lVmcwemtn",
        "outputId": "b13dcbac-729e-436e-c3f3-de84a2fec0ab"
      },
      "execution_count": null,
      "outputs": [
        {
          "output_type": "stream",
          "name": "stdout",
          "text": [
            " \n",
            "we\n",
            "'re\n",
            "here\n",
            "to\n",
            "help\n",
            "!\n",
            "send\n",
            "snail\n",
            "-\n",
            "mail\n",
            ",\n",
            "email\n",
            "support\n",
            "support@oursite.com\n",
            "or\n",
            "visit\n",
            "us\n",
            "at\n",
            "https://www.afternic.com/forsale/OURSITE.COM?utm_source=TDFS&utm_medium=sn_affiliate_click&utm_campaign=TDFS_GoDaddy_DLS&traffic_type=TDFS&traffic_id=GoDaddy_DLS\n"
          ]
        }
      ]
    },
    {
      "cell_type": "code",
      "source": [
        "len(doc4)"
      ],
      "metadata": {
        "colab": {
          "base_uri": "https://localhost:8080/"
        },
        "id": "ffLuLIBJfhSH",
        "outputId": "4376d5dd-6457-4505-f577-783a430cdf43"
      },
      "execution_count": null,
      "outputs": [
        {
          "output_type": "execute_result",
          "data": {
            "text/plain": [
              "20"
            ]
          },
          "metadata": {},
          "execution_count": 77
        }
      ]
    },
    {
      "cell_type": "markdown",
      "source": [
        "#Named entity recognization\n",
        "to identify specific things like palces,names,date,times and organizations ,."
      ],
      "metadata": {
        "id": "gaXqvHvUh3t5"
      }
    },
    {
      "cell_type": "code",
      "source": [
        "documnet = nlp(\"Apple is lokking a U.K. startup for $6 billions\")"
      ],
      "metadata": {
        "id": "RnrIWIKrfzK4"
      },
      "execution_count": null,
      "outputs": []
    },
    {
      "cell_type": "code",
      "source": [
        "for token in documnet:\n",
        "  print(token.text , end=' | ')"
      ],
      "metadata": {
        "colab": {
          "base_uri": "https://localhost:8080/"
        },
        "id": "NrU58WyIidhK",
        "outputId": "529f668f-1c22-40b5-ea13-0de479f9a1e0"
      },
      "execution_count": null,
      "outputs": [
        {
          "output_type": "stream",
          "name": "stdout",
          "text": [
            "Apple | is | lokking | a | U.K. | startup | for | $ | 6 | billions | "
          ]
        }
      ]
    },
    {
      "cell_type": "code",
      "source": [
        "for ent in documnet.ents:\n",
        "  print(ent.text+ ' - ' +ent.label_+ ' - ' +str(spacy.explain(ent.label_)))"
      ],
      "metadata": {
        "colab": {
          "base_uri": "https://localhost:8080/"
        },
        "id": "sI56UvPtiq6Z",
        "outputId": "b37e9536-ad8d-4442-982d-1cc227dfb28e"
      },
      "execution_count": null,
      "outputs": [
        {
          "output_type": "stream",
          "name": "stdout",
          "text": [
            "Apple - ORG - Companies, agencies, institutions, etc.\n",
            "U.K. - GPE - Countries, cities, states\n",
            "$6 billions - MONEY - Monetary values, including unit\n"
          ]
        }
      ]
    },
    {
      "cell_type": "code",
      "source": [
        "from spacy import displacy\n",
        "\n",
        "displacy.render(documnet,style='ent',jupyter=True)"
      ],
      "metadata": {
        "colab": {
          "base_uri": "https://localhost:8080/",
          "height": 52
        },
        "id": "UKjbcJAOjGO4",
        "outputId": "09e795fc-761e-490c-f1c6-756497c4d3a6"
      },
      "execution_count": null,
      "outputs": [
        {
          "output_type": "display_data",
          "data": {
            "text/plain": [
              "<IPython.core.display.HTML object>"
            ],
            "text/html": [
              "<span class=\"tex2jax_ignore\"><div class=\"entities\" style=\"line-height: 2.5; direction: ltr\">\n",
              "<mark class=\"entity\" style=\"background: #7aecec; padding: 0.45em 0.6em; margin: 0 0.25em; line-height: 1; border-radius: 0.35em;\">\n",
              "    Apple\n",
              "    <span style=\"font-size: 0.8em; font-weight: bold; line-height: 1; border-radius: 0.35em; vertical-align: middle; margin-left: 0.5rem\">ORG</span>\n",
              "</mark>\n",
              " is lokking a \n",
              "<mark class=\"entity\" style=\"background: #feca74; padding: 0.45em 0.6em; margin: 0 0.25em; line-height: 1; border-radius: 0.35em;\">\n",
              "    U.K.\n",
              "    <span style=\"font-size: 0.8em; font-weight: bold; line-height: 1; border-radius: 0.35em; vertical-align: middle; margin-left: 0.5rem\">GPE</span>\n",
              "</mark>\n",
              " startup for \n",
              "<mark class=\"entity\" style=\"background: #e4e7d2; padding: 0.45em 0.6em; margin: 0 0.25em; line-height: 1; border-radius: 0.35em;\">\n",
              "    $6 billions\n",
              "    <span style=\"font-size: 0.8em; font-weight: bold; line-height: 1; border-radius: 0.35em; vertical-align: middle; margin-left: 0.5rem\">MONEY</span>\n",
              "</mark>\n",
              "</div></span>"
            ]
          },
          "metadata": {}
        }
      ]
    },
    {
      "cell_type": "code",
      "source": [
        "from spacy import displacy\n",
        "\n",
        "docum = \"Koduri Srihari is a good boy in the world of India\"\n",
        "displacy.render(nlp(docum))"
      ],
      "metadata": {
        "colab": {
          "base_uri": "https://localhost:8080/",
          "height": 441
        },
        "id": "E2PoOr6VkGJH",
        "outputId": "eba1642d-384a-495e-9f30-348595532173"
      },
      "execution_count": null,
      "outputs": [
        {
          "output_type": "display_data",
          "data": {
            "text/plain": [
              "<IPython.core.display.HTML object>"
            ],
            "text/html": [
              "<span class=\"tex2jax_ignore\"><svg xmlns=\"http://www.w3.org/2000/svg\" xmlns:xlink=\"http://www.w3.org/1999/xlink\" xml:lang=\"en\" id=\"f4ec9fe65ea1404f8044be3f8c437003-0\" class=\"displacy\" width=\"1975\" height=\"399.5\" direction=\"ltr\" style=\"max-width: none; height: 399.5px; color: #000000; background: #ffffff; font-family: Arial; direction: ltr\">\n",
              "<text class=\"displacy-token\" fill=\"currentColor\" text-anchor=\"middle\" y=\"309.5\">\n",
              "    <tspan class=\"displacy-word\" fill=\"currentColor\" x=\"50\">Koduri</tspan>\n",
              "    <tspan class=\"displacy-tag\" dy=\"2em\" fill=\"currentColor\" x=\"50\">PROPN</tspan>\n",
              "</text>\n",
              "\n",
              "<text class=\"displacy-token\" fill=\"currentColor\" text-anchor=\"middle\" y=\"309.5\">\n",
              "    <tspan class=\"displacy-word\" fill=\"currentColor\" x=\"225\">Srihari</tspan>\n",
              "    <tspan class=\"displacy-tag\" dy=\"2em\" fill=\"currentColor\" x=\"225\">PROPN</tspan>\n",
              "</text>\n",
              "\n",
              "<text class=\"displacy-token\" fill=\"currentColor\" text-anchor=\"middle\" y=\"309.5\">\n",
              "    <tspan class=\"displacy-word\" fill=\"currentColor\" x=\"400\">is</tspan>\n",
              "    <tspan class=\"displacy-tag\" dy=\"2em\" fill=\"currentColor\" x=\"400\">AUX</tspan>\n",
              "</text>\n",
              "\n",
              "<text class=\"displacy-token\" fill=\"currentColor\" text-anchor=\"middle\" y=\"309.5\">\n",
              "    <tspan class=\"displacy-word\" fill=\"currentColor\" x=\"575\">a</tspan>\n",
              "    <tspan class=\"displacy-tag\" dy=\"2em\" fill=\"currentColor\" x=\"575\">DET</tspan>\n",
              "</text>\n",
              "\n",
              "<text class=\"displacy-token\" fill=\"currentColor\" text-anchor=\"middle\" y=\"309.5\">\n",
              "    <tspan class=\"displacy-word\" fill=\"currentColor\" x=\"750\">good</tspan>\n",
              "    <tspan class=\"displacy-tag\" dy=\"2em\" fill=\"currentColor\" x=\"750\">ADJ</tspan>\n",
              "</text>\n",
              "\n",
              "<text class=\"displacy-token\" fill=\"currentColor\" text-anchor=\"middle\" y=\"309.5\">\n",
              "    <tspan class=\"displacy-word\" fill=\"currentColor\" x=\"925\">boy</tspan>\n",
              "    <tspan class=\"displacy-tag\" dy=\"2em\" fill=\"currentColor\" x=\"925\">NOUN</tspan>\n",
              "</text>\n",
              "\n",
              "<text class=\"displacy-token\" fill=\"currentColor\" text-anchor=\"middle\" y=\"309.5\">\n",
              "    <tspan class=\"displacy-word\" fill=\"currentColor\" x=\"1100\">in</tspan>\n",
              "    <tspan class=\"displacy-tag\" dy=\"2em\" fill=\"currentColor\" x=\"1100\">ADP</tspan>\n",
              "</text>\n",
              "\n",
              "<text class=\"displacy-token\" fill=\"currentColor\" text-anchor=\"middle\" y=\"309.5\">\n",
              "    <tspan class=\"displacy-word\" fill=\"currentColor\" x=\"1275\">the</tspan>\n",
              "    <tspan class=\"displacy-tag\" dy=\"2em\" fill=\"currentColor\" x=\"1275\">DET</tspan>\n",
              "</text>\n",
              "\n",
              "<text class=\"displacy-token\" fill=\"currentColor\" text-anchor=\"middle\" y=\"309.5\">\n",
              "    <tspan class=\"displacy-word\" fill=\"currentColor\" x=\"1450\">world</tspan>\n",
              "    <tspan class=\"displacy-tag\" dy=\"2em\" fill=\"currentColor\" x=\"1450\">NOUN</tspan>\n",
              "</text>\n",
              "\n",
              "<text class=\"displacy-token\" fill=\"currentColor\" text-anchor=\"middle\" y=\"309.5\">\n",
              "    <tspan class=\"displacy-word\" fill=\"currentColor\" x=\"1625\">of</tspan>\n",
              "    <tspan class=\"displacy-tag\" dy=\"2em\" fill=\"currentColor\" x=\"1625\">ADP</tspan>\n",
              "</text>\n",
              "\n",
              "<text class=\"displacy-token\" fill=\"currentColor\" text-anchor=\"middle\" y=\"309.5\">\n",
              "    <tspan class=\"displacy-word\" fill=\"currentColor\" x=\"1800\">India</tspan>\n",
              "    <tspan class=\"displacy-tag\" dy=\"2em\" fill=\"currentColor\" x=\"1800\">PROPN</tspan>\n",
              "</text>\n",
              "\n",
              "<g class=\"displacy-arrow\">\n",
              "    <path class=\"displacy-arc\" id=\"arrow-f4ec9fe65ea1404f8044be3f8c437003-0-0\" stroke-width=\"2px\" d=\"M70,264.5 C70,177.0 215.0,177.0 215.0,264.5\" fill=\"none\" stroke=\"currentColor\"/>\n",
              "    <text dy=\"1.25em\" style=\"font-size: 0.8em; letter-spacing: 1px\">\n",
              "        <textPath xlink:href=\"#arrow-f4ec9fe65ea1404f8044be3f8c437003-0-0\" class=\"displacy-label\" startOffset=\"50%\" side=\"left\" fill=\"currentColor\" text-anchor=\"middle\">compound</textPath>\n",
              "    </text>\n",
              "    <path class=\"displacy-arrowhead\" d=\"M70,266.5 L62,254.5 78,254.5\" fill=\"currentColor\"/>\n",
              "</g>\n",
              "\n",
              "<g class=\"displacy-arrow\">\n",
              "    <path class=\"displacy-arc\" id=\"arrow-f4ec9fe65ea1404f8044be3f8c437003-0-1\" stroke-width=\"2px\" d=\"M245,264.5 C245,177.0 390.0,177.0 390.0,264.5\" fill=\"none\" stroke=\"currentColor\"/>\n",
              "    <text dy=\"1.25em\" style=\"font-size: 0.8em; letter-spacing: 1px\">\n",
              "        <textPath xlink:href=\"#arrow-f4ec9fe65ea1404f8044be3f8c437003-0-1\" class=\"displacy-label\" startOffset=\"50%\" side=\"left\" fill=\"currentColor\" text-anchor=\"middle\">nsubj</textPath>\n",
              "    </text>\n",
              "    <path class=\"displacy-arrowhead\" d=\"M245,266.5 L237,254.5 253,254.5\" fill=\"currentColor\"/>\n",
              "</g>\n",
              "\n",
              "<g class=\"displacy-arrow\">\n",
              "    <path class=\"displacy-arc\" id=\"arrow-f4ec9fe65ea1404f8044be3f8c437003-0-2\" stroke-width=\"2px\" d=\"M595,264.5 C595,89.5 920.0,89.5 920.0,264.5\" fill=\"none\" stroke=\"currentColor\"/>\n",
              "    <text dy=\"1.25em\" style=\"font-size: 0.8em; letter-spacing: 1px\">\n",
              "        <textPath xlink:href=\"#arrow-f4ec9fe65ea1404f8044be3f8c437003-0-2\" class=\"displacy-label\" startOffset=\"50%\" side=\"left\" fill=\"currentColor\" text-anchor=\"middle\">det</textPath>\n",
              "    </text>\n",
              "    <path class=\"displacy-arrowhead\" d=\"M595,266.5 L587,254.5 603,254.5\" fill=\"currentColor\"/>\n",
              "</g>\n",
              "\n",
              "<g class=\"displacy-arrow\">\n",
              "    <path class=\"displacy-arc\" id=\"arrow-f4ec9fe65ea1404f8044be3f8c437003-0-3\" stroke-width=\"2px\" d=\"M770,264.5 C770,177.0 915.0,177.0 915.0,264.5\" fill=\"none\" stroke=\"currentColor\"/>\n",
              "    <text dy=\"1.25em\" style=\"font-size: 0.8em; letter-spacing: 1px\">\n",
              "        <textPath xlink:href=\"#arrow-f4ec9fe65ea1404f8044be3f8c437003-0-3\" class=\"displacy-label\" startOffset=\"50%\" side=\"left\" fill=\"currentColor\" text-anchor=\"middle\">amod</textPath>\n",
              "    </text>\n",
              "    <path class=\"displacy-arrowhead\" d=\"M770,266.5 L762,254.5 778,254.5\" fill=\"currentColor\"/>\n",
              "</g>\n",
              "\n",
              "<g class=\"displacy-arrow\">\n",
              "    <path class=\"displacy-arc\" id=\"arrow-f4ec9fe65ea1404f8044be3f8c437003-0-4\" stroke-width=\"2px\" d=\"M420,264.5 C420,2.0 925.0,2.0 925.0,264.5\" fill=\"none\" stroke=\"currentColor\"/>\n",
              "    <text dy=\"1.25em\" style=\"font-size: 0.8em; letter-spacing: 1px\">\n",
              "        <textPath xlink:href=\"#arrow-f4ec9fe65ea1404f8044be3f8c437003-0-4\" class=\"displacy-label\" startOffset=\"50%\" side=\"left\" fill=\"currentColor\" text-anchor=\"middle\">attr</textPath>\n",
              "    </text>\n",
              "    <path class=\"displacy-arrowhead\" d=\"M925.0,266.5 L933.0,254.5 917.0,254.5\" fill=\"currentColor\"/>\n",
              "</g>\n",
              "\n",
              "<g class=\"displacy-arrow\">\n",
              "    <path class=\"displacy-arc\" id=\"arrow-f4ec9fe65ea1404f8044be3f8c437003-0-5\" stroke-width=\"2px\" d=\"M945,264.5 C945,177.0 1090.0,177.0 1090.0,264.5\" fill=\"none\" stroke=\"currentColor\"/>\n",
              "    <text dy=\"1.25em\" style=\"font-size: 0.8em; letter-spacing: 1px\">\n",
              "        <textPath xlink:href=\"#arrow-f4ec9fe65ea1404f8044be3f8c437003-0-5\" class=\"displacy-label\" startOffset=\"50%\" side=\"left\" fill=\"currentColor\" text-anchor=\"middle\">prep</textPath>\n",
              "    </text>\n",
              "    <path class=\"displacy-arrowhead\" d=\"M1090.0,266.5 L1098.0,254.5 1082.0,254.5\" fill=\"currentColor\"/>\n",
              "</g>\n",
              "\n",
              "<g class=\"displacy-arrow\">\n",
              "    <path class=\"displacy-arc\" id=\"arrow-f4ec9fe65ea1404f8044be3f8c437003-0-6\" stroke-width=\"2px\" d=\"M1295,264.5 C1295,177.0 1440.0,177.0 1440.0,264.5\" fill=\"none\" stroke=\"currentColor\"/>\n",
              "    <text dy=\"1.25em\" style=\"font-size: 0.8em; letter-spacing: 1px\">\n",
              "        <textPath xlink:href=\"#arrow-f4ec9fe65ea1404f8044be3f8c437003-0-6\" class=\"displacy-label\" startOffset=\"50%\" side=\"left\" fill=\"currentColor\" text-anchor=\"middle\">det</textPath>\n",
              "    </text>\n",
              "    <path class=\"displacy-arrowhead\" d=\"M1295,266.5 L1287,254.5 1303,254.5\" fill=\"currentColor\"/>\n",
              "</g>\n",
              "\n",
              "<g class=\"displacy-arrow\">\n",
              "    <path class=\"displacy-arc\" id=\"arrow-f4ec9fe65ea1404f8044be3f8c437003-0-7\" stroke-width=\"2px\" d=\"M1120,264.5 C1120,89.5 1445.0,89.5 1445.0,264.5\" fill=\"none\" stroke=\"currentColor\"/>\n",
              "    <text dy=\"1.25em\" style=\"font-size: 0.8em; letter-spacing: 1px\">\n",
              "        <textPath xlink:href=\"#arrow-f4ec9fe65ea1404f8044be3f8c437003-0-7\" class=\"displacy-label\" startOffset=\"50%\" side=\"left\" fill=\"currentColor\" text-anchor=\"middle\">pobj</textPath>\n",
              "    </text>\n",
              "    <path class=\"displacy-arrowhead\" d=\"M1445.0,266.5 L1453.0,254.5 1437.0,254.5\" fill=\"currentColor\"/>\n",
              "</g>\n",
              "\n",
              "<g class=\"displacy-arrow\">\n",
              "    <path class=\"displacy-arc\" id=\"arrow-f4ec9fe65ea1404f8044be3f8c437003-0-8\" stroke-width=\"2px\" d=\"M1470,264.5 C1470,177.0 1615.0,177.0 1615.0,264.5\" fill=\"none\" stroke=\"currentColor\"/>\n",
              "    <text dy=\"1.25em\" style=\"font-size: 0.8em; letter-spacing: 1px\">\n",
              "        <textPath xlink:href=\"#arrow-f4ec9fe65ea1404f8044be3f8c437003-0-8\" class=\"displacy-label\" startOffset=\"50%\" side=\"left\" fill=\"currentColor\" text-anchor=\"middle\">prep</textPath>\n",
              "    </text>\n",
              "    <path class=\"displacy-arrowhead\" d=\"M1615.0,266.5 L1623.0,254.5 1607.0,254.5\" fill=\"currentColor\"/>\n",
              "</g>\n",
              "\n",
              "<g class=\"displacy-arrow\">\n",
              "    <path class=\"displacy-arc\" id=\"arrow-f4ec9fe65ea1404f8044be3f8c437003-0-9\" stroke-width=\"2px\" d=\"M1645,264.5 C1645,177.0 1790.0,177.0 1790.0,264.5\" fill=\"none\" stroke=\"currentColor\"/>\n",
              "    <text dy=\"1.25em\" style=\"font-size: 0.8em; letter-spacing: 1px\">\n",
              "        <textPath xlink:href=\"#arrow-f4ec9fe65ea1404f8044be3f8c437003-0-9\" class=\"displacy-label\" startOffset=\"50%\" side=\"left\" fill=\"currentColor\" text-anchor=\"middle\">pobj</textPath>\n",
              "    </text>\n",
              "    <path class=\"displacy-arrowhead\" d=\"M1790.0,266.5 L1798.0,254.5 1782.0,254.5\" fill=\"currentColor\"/>\n",
              "</g>\n",
              "</svg></span>"
            ]
          },
          "metadata": {}
        }
      ]
    },
    {
      "cell_type": "code",
      "source": [
        "from spacy import displacy\n",
        "\n",
        "docume = \"KODURI SRIHARI IS A GOOD BOY IN THE WORLD Of ANDHRA PRADESH ONGOLE\"\n",
        "DOCUME = nlp(docume)\n",
        "\n",
        "displacy.render(DOCUME,style='ent',jupyter=True)"
      ],
      "metadata": {
        "colab": {
          "base_uri": "https://localhost:8080/",
          "height": 52
        },
        "id": "UUy-mqF9ktpV",
        "outputId": "a8730ded-13f3-4aea-fe29-cb04085997b9"
      },
      "execution_count": null,
      "outputs": [
        {
          "output_type": "display_data",
          "data": {
            "text/plain": [
              "<IPython.core.display.HTML object>"
            ],
            "text/html": [
              "<span class=\"tex2jax_ignore\"><div class=\"entities\" style=\"line-height: 2.5; direction: ltr\">\n",
              "<mark class=\"entity\" style=\"background: #7aecec; padding: 0.45em 0.6em; margin: 0 0.25em; line-height: 1; border-radius: 0.35em;\">\n",
              "    KODURI SRIHARI IS\n",
              "    <span style=\"font-size: 0.8em; font-weight: bold; line-height: 1; border-radius: 0.35em; vertical-align: middle; margin-left: 0.5rem\">ORG</span>\n",
              "</mark>\n",
              " A GOOD BOY IN THE WORLD Of ANDHRA PRADESH ONGOLE</div></span>"
            ]
          },
          "metadata": {}
        }
      ]
    },
    {
      "cell_type": "code",
      "source": [
        "from spacy import displacy\n",
        "\n",
        "docume = \"Koduri Srihari is a good Boy in the world of India and he buys 10 thousand Vegetables from U.S.A. though he is from INDIA\"\n",
        "DOCUME = nlp(docume)\n",
        "\n",
        "displacy.render(DOCUME,style='ent',jupyter=True)"
      ],
      "metadata": {
        "colab": {
          "base_uri": "https://localhost:8080/",
          "height": 87
        },
        "id": "mcx8luf5lNHJ",
        "outputId": "9154ccac-a8fd-4e1e-e014-e5fcdd3fb9c2"
      },
      "execution_count": null,
      "outputs": [
        {
          "output_type": "display_data",
          "data": {
            "text/plain": [
              "<IPython.core.display.HTML object>"
            ],
            "text/html": [
              "<span class=\"tex2jax_ignore\"><div class=\"entities\" style=\"line-height: 2.5; direction: ltr\">\n",
              "<mark class=\"entity\" style=\"background: #aa9cfc; padding: 0.45em 0.6em; margin: 0 0.25em; line-height: 1; border-radius: 0.35em;\">\n",
              "    Koduri Srihari\n",
              "    <span style=\"font-size: 0.8em; font-weight: bold; line-height: 1; border-radius: 0.35em; vertical-align: middle; margin-left: 0.5rem\">PERSON</span>\n",
              "</mark>\n",
              " is a good Boy in the world of \n",
              "<mark class=\"entity\" style=\"background: #feca74; padding: 0.45em 0.6em; margin: 0 0.25em; line-height: 1; border-radius: 0.35em;\">\n",
              "    India\n",
              "    <span style=\"font-size: 0.8em; font-weight: bold; line-height: 1; border-radius: 0.35em; vertical-align: middle; margin-left: 0.5rem\">GPE</span>\n",
              "</mark>\n",
              " and he buys \n",
              "<mark class=\"entity\" style=\"background: #e4e7d2; padding: 0.45em 0.6em; margin: 0 0.25em; line-height: 1; border-radius: 0.35em;\">\n",
              "    10 thousand\n",
              "    <span style=\"font-size: 0.8em; font-weight: bold; line-height: 1; border-radius: 0.35em; vertical-align: middle; margin-left: 0.5rem\">CARDINAL</span>\n",
              "</mark>\n",
              " Vegetables from \n",
              "<mark class=\"entity\" style=\"background: #feca74; padding: 0.45em 0.6em; margin: 0 0.25em; line-height: 1; border-radius: 0.35em;\">\n",
              "    U.S.A.\n",
              "    <span style=\"font-size: 0.8em; font-weight: bold; line-height: 1; border-radius: 0.35em; vertical-align: middle; margin-left: 0.5rem\">GPE</span>\n",
              "</mark>\n",
              " though he is from \n",
              "<mark class=\"entity\" style=\"background: #feca74; padding: 0.45em 0.6em; margin: 0 0.25em; line-height: 1; border-radius: 0.35em;\">\n",
              "    INDIA\n",
              "    <span style=\"font-size: 0.8em; font-weight: bold; line-height: 1; border-radius: 0.35em; vertical-align: middle; margin-left: 0.5rem\">GPE</span>\n",
              "</mark>\n",
              "</div></span>"
            ]
          },
          "metadata": {}
        }
      ]
    },
    {
      "cell_type": "code",
      "source": [
        "spacy.explain(\"CARDINAL\")"
      ],
      "metadata": {
        "colab": {
          "base_uri": "https://localhost:8080/",
          "height": 36
        },
        "id": "ym5Qp0dOldUs",
        "outputId": "2b34875e-e689-46df-bd73-73366f0f3ef8"
      },
      "execution_count": null,
      "outputs": [
        {
          "output_type": "execute_result",
          "data": {
            "text/plain": [
              "'Numerals that do not fall under another type'"
            ],
            "application/vnd.google.colaboratory.intrinsic+json": {
              "type": "string"
            }
          },
          "metadata": {},
          "execution_count": 96
        }
      ]
    },
    {
      "cell_type": "markdown",
      "source": [
        "#Noun Chunks\n",
        "similar to Doc.ents , Doc.noun_chunks are another object property. Noun chunks are \" base.noun phrases\" - flat phrases that have a noun as their head . you can think of noun as a noun chunks as a noun plus the words describing the noun"
      ],
      "metadata": {
        "id": "vQIkK-L1mJZM"
      }
    },
    {
      "cell_type": "code",
      "source": [
        "doc = \"red cars do not carry higher insurance rates\"\n",
        "doc = nlp(doc)"
      ],
      "metadata": {
        "id": "QCK-uDu0nJWA"
      },
      "execution_count": null,
      "outputs": []
    },
    {
      "cell_type": "code",
      "source": [
        "for chunk in doc.noun_chunks:\n",
        "  print(chunk.text)"
      ],
      "metadata": {
        "colab": {
          "base_uri": "https://localhost:8080/"
        },
        "id": "nQxaMGR0nOpp",
        "outputId": "20f8a123-cdf1-46ad-abdb-a650d55bcb21"
      },
      "execution_count": null,
      "outputs": [
        {
          "output_type": "stream",
          "name": "stdout",
          "text": [
            "red cars\n",
            "higher insurance rates\n"
          ]
        }
      ]
    },
    {
      "cell_type": "code",
      "source": [
        "doc = \"he was a one-eyed, one - horned , flying , purpolr people-eater.\"\n",
        "doc = nlp(doc)"
      ],
      "metadata": {
        "id": "NfPty77encCv"
      },
      "execution_count": null,
      "outputs": []
    },
    {
      "cell_type": "code",
      "source": [
        "for chunk in doc.noun_chunks:\n",
        "  print(chunk.text)"
      ],
      "metadata": {
        "colab": {
          "base_uri": "https://localhost:8080/"
        },
        "id": "wbSX_DtGoM3k",
        "outputId": "ea672b65-829c-4f42-f053-fce7c3f191d5"
      },
      "execution_count": null,
      "outputs": [
        {
          "output_type": "stream",
          "name": "stdout",
          "text": [
            "he\n",
            "a one-eyed, one - horned , flying , purpolr people-eater\n"
          ]
        }
      ]
    },
    {
      "cell_type": "markdown",
      "source": [
        "#stemming\n",
        " - In Natural Language Processing (NLP), stemming is a text preprocessing technique that reduces words to their base or root form (stem) by removing affixes (suffixes or prefixes). This simplifies text and improves efficiency in tasks like information retrieval and text classification."
      ],
      "metadata": {
        "id": "DIPgA1WxoTh1"
      }
    },
    {
      "cell_type": "markdown",
      "source": [
        "#porter stemmer"
      ],
      "metadata": {
        "id": "2av47DJO1I8n"
      }
    },
    {
      "cell_type": "code",
      "source": [
        "import nltk\n",
        "from nltk.stem.porter import PorterStemmer"
      ],
      "metadata": {
        "id": "W1y67nBN1M7Y"
      },
      "execution_count": null,
      "outputs": []
    },
    {
      "cell_type": "code",
      "source": [
        "p_stem = PorterStemmer()"
      ],
      "metadata": {
        "id": "QSSwEimK1XJU"
      },
      "execution_count": null,
      "outputs": []
    },
    {
      "cell_type": "code",
      "source": [
        "words = ['run','runner','runnig','ran','runs','easily','fairly']\n",
        "for i in words:\n",
        "  print(i + '----->'+p_stem.stem(i))"
      ],
      "metadata": {
        "colab": {
          "base_uri": "https://localhost:8080/"
        },
        "id": "WPDyFYhP46Mp",
        "outputId": "0799b4e0-cfcd-4b88-9d17-281961c26304"
      },
      "execution_count": null,
      "outputs": [
        {
          "output_type": "stream",
          "name": "stdout",
          "text": [
            "run----->run\n",
            "runner----->runner\n",
            "runnig----->runnig\n",
            "ran----->ran\n",
            "runs----->run\n",
            "easily----->easili\n",
            "fairly----->fairli\n"
          ]
        }
      ]
    },
    {
      "cell_type": "markdown",
      "source": [
        "**Porter Stemmer**\n",
        " - doesn't perform well\n",
        "run----->run\n",
        "runner----->runner\n",
        "runnig----->runnig\n",
        "ran----->ran\n",
        "runs----->run \\\n",
        "**easily----->easili \\\n",
        "fairly----->fairli**"
      ],
      "metadata": {
        "id": "NfJe7P0t5MdU"
      }
    },
    {
      "cell_type": "markdown",
      "source": [
        "#Snowball Stemmer"
      ],
      "metadata": {
        "id": "e3IY7eFw5yVi"
      }
    },
    {
      "cell_type": "markdown",
      "source": [
        "- the algorithm used here is more accurately called the \"english stemmer \" or \"porter stemmer \" . itoffers a slight improvement over the original porter stemmer , both in logic and speed"
      ],
      "metadata": {
        "id": "TbApxOGg59aA"
      }
    },
    {
      "cell_type": "code",
      "source": [
        "from nltk.stem.snowball import SnowballStemmer\n",
        "\n",
        "s_stem = SnowballStemmer(language='english')"
      ],
      "metadata": {
        "id": "kAPKr3aR6WO8"
      },
      "execution_count": null,
      "outputs": []
    },
    {
      "cell_type": "code",
      "source": [
        "words = ['run','runner','runnig','ran','runs','easily','fairly']\n",
        "\n",
        "for word in words:\n",
        "  print(word +'------>'+ s_stem.stem(word))"
      ],
      "metadata": {
        "colab": {
          "base_uri": "https://localhost:8080/"
        },
        "id": "7kr5I0fY6myS",
        "outputId": "aba28706-1f0f-4ef2-89f2-c3e6418925ad"
      },
      "execution_count": null,
      "outputs": [
        {
          "output_type": "stream",
          "name": "stdout",
          "text": [
            "run------>run\n",
            "runner------>runner\n",
            "runnig------>runnig\n",
            "ran------>ran\n",
            "runs------>run\n",
            "easily------>easili\n",
            "fairly------>fair\n"
          ]
        }
      ]
    },
    {
      "cell_type": "code",
      "source": [
        "word = ['consolingly']\n",
        "print('porter stemmer')\n",
        "for i in word:\n",
        "  print(i +' - porter stemmer----->'+p_stem.stem(i))\n",
        "\n",
        "print(\"-------------------------------------------\")\n",
        "\n",
        "for j in word:\n",
        "  print(i+' - snowball stemmer------>'+s_stem.stem(i))"
      ],
      "metadata": {
        "colab": {
          "base_uri": "https://localhost:8080/"
        },
        "id": "frHzO6R166Me",
        "outputId": "b46c5c0e-5280-458a-a53f-028080feed3b"
      },
      "execution_count": null,
      "outputs": [
        {
          "output_type": "stream",
          "name": "stdout",
          "text": [
            "porter stemmer\n",
            "consolingly - porter stemmer----->consolingli\n",
            "-------------------------------------------\n",
            "consolingly - snowball stemmer------>consol\n"
          ]
        }
      ]
    },
    {
      "cell_type": "code",
      "source": [
        "string = 'i am doing well . what about you'\n",
        "\n",
        "for i in string.split():\n",
        "  print(i +' - porter stemmer -->'+p_stem.stem(i))\n",
        "\n",
        "print(\"------------------------------------------\")\n",
        "\n",
        "for i in string.split():\n",
        "  print(i + ' - snowball stemmer-->'+s_stem.stem(i))"
      ],
      "metadata": {
        "colab": {
          "base_uri": "https://localhost:8080/"
        },
        "id": "FnolRijA7bcT",
        "outputId": "25b3fd70-c9eb-4309-ddc7-c1362ba9b259"
      },
      "execution_count": null,
      "outputs": [
        {
          "output_type": "stream",
          "name": "stdout",
          "text": [
            "i - porter stemmer -->i\n",
            "am - porter stemmer -->am\n",
            "doing - porter stemmer -->do\n",
            "well - porter stemmer -->well\n",
            ". - porter stemmer -->.\n",
            "what - porter stemmer -->what\n",
            "about - porter stemmer -->about\n",
            "you - porter stemmer -->you\n",
            "------------------------------------------\n",
            "i - snowball stemmer-->i\n",
            "am - snowball stemmer-->am\n",
            "doing - snowball stemmer-->do\n",
            "well - snowball stemmer-->well\n",
            ". - snowball stemmer-->.\n",
            "what - snowball stemmer-->what\n",
            "about - snowball stemmer-->about\n",
            "you - snowball stemmer-->you\n"
          ]
        }
      ]
    },
    {
      "cell_type": "markdown",
      "source": [
        "#lematization"
      ],
      "metadata": {
        "id": "mV2GcY_e8Qwg"
      }
    },
    {
      "cell_type": "code",
      "source": [
        "import spacy.cli\n",
        "spacy.cli.download(\"en_core_web_sm\")"
      ],
      "metadata": {
        "colab": {
          "base_uri": "https://localhost:8080/"
        },
        "id": "e3yqLJv--gUu",
        "outputId": "79eeeb2f-c5fc-40b7-aa35-25b63021fc44"
      },
      "execution_count": null,
      "outputs": [
        {
          "output_type": "stream",
          "name": "stdout",
          "text": [
            "\u001b[38;5;2m✔ Download and installation successful\u001b[0m\n",
            "You can now load the package via spacy.load('en_core_web_sm')\n",
            "\u001b[38;5;3m⚠ Restart to reload dependencies\u001b[0m\n",
            "If you are in a Jupyter or Colab notebook, you may need to restart Python in\n",
            "order to load all the package's dependencies. You can do this by selecting the\n",
            "'Restart kernel' or 'Restart runtime' option.\n"
          ]
        }
      ]
    },
    {
      "cell_type": "code",
      "source": [
        "import spacy\n",
        "nlp = spacy.load('en_core_web_sm')\n",
        "\n",
        "doc = nlp('i am a runner because i am running say and also i ran today , i will also run tommorow and i am faster than russen bolt that i am imagining')"
      ],
      "metadata": {
        "id": "nmr3cNI4_RLC"
      },
      "execution_count": null,
      "outputs": []
    },
    {
      "cell_type": "code",
      "source": [
        "for token in doc:\n",
        "  print(token.text,'\\t',token.pos_,'\\t', token.lemma_)"
      ],
      "metadata": {
        "colab": {
          "base_uri": "https://localhost:8080/"
        },
        "id": "QUiAWfvU_oLB",
        "outputId": "62d73c40-f257-4dc8-a308-91c223958615"
      },
      "execution_count": null,
      "outputs": [
        {
          "output_type": "stream",
          "name": "stdout",
          "text": [
            "i \t PRON \t I\n",
            "am \t AUX \t be\n",
            "a \t DET \t a\n",
            "runner \t NOUN \t runner\n",
            "because \t SCONJ \t because\n",
            "i \t PRON \t I\n",
            "am \t AUX \t be\n",
            "running \t VERB \t run\n",
            "say \t INTJ \t say\n",
            "and \t CCONJ \t and\n",
            "also \t ADV \t also\n",
            "i \t PRON \t I\n",
            "ran \t VERB \t run\n",
            "today \t NOUN \t today\n",
            ", \t PUNCT \t ,\n",
            "i \t PRON \t I\n",
            "will \t AUX \t will\n",
            "also \t ADV \t also\n",
            "run \t VERB \t run\n",
            "tommorow \t NOUN \t tommorow\n",
            "and \t CCONJ \t and\n",
            "i \t PRON \t I\n",
            "am \t AUX \t be\n",
            "faster \t ADJ \t fast\n",
            "than \t SCONJ \t than\n",
            "russen \t VERB \t russen\n",
            "bolt \t NOUN \t bolt\n",
            "that \t SCONJ \t that\n",
            "i \t PRON \t I\n",
            "am \t AUX \t be\n",
            "imagining \t VERB \t imagine\n"
          ]
        }
      ]
    },
    {
      "cell_type": "code",
      "source": [
        "def lemma_show(text):\n",
        "  for token in text:\n",
        "    print(f'{token.text:{12}} {token.pos_:{8}} {token.lemma_:<{22}}')"
      ],
      "metadata": {
        "id": "q7ew_a13ANvk"
      },
      "execution_count": null,
      "outputs": []
    },
    {
      "cell_type": "code",
      "source": [
        "doc = nlp('i saw nine mice today')\n",
        "lemma_show(doc)"
      ],
      "metadata": {
        "colab": {
          "base_uri": "https://localhost:8080/"
        },
        "id": "yR377LjOBQgX",
        "outputId": "572decac-ec71-407b-d31d-109b121de1bc"
      },
      "execution_count": null,
      "outputs": [
        {
          "output_type": "stream",
          "name": "stdout",
          "text": [
            "i            PRON     I                     \n",
            "saw          VERB     see                   \n",
            "nine         NUM      nine                  \n",
            "mice         NOUN     mouse                 \n",
            "today        NOUN     today                 \n"
          ]
        }
      ]
    },
    {
      "cell_type": "code",
      "source": [
        "doc = nlp(\"i am meeting him at meeting tommorw\")\n",
        "lemma_show(doc)"
      ],
      "metadata": {
        "colab": {
          "base_uri": "https://localhost:8080/"
        },
        "id": "jPw17jTYBZ5v",
        "outputId": "14d443d0-0d4e-4a5a-cfb8-7503e55ce1e4"
      },
      "execution_count": null,
      "outputs": [
        {
          "output_type": "stream",
          "name": "stdout",
          "text": [
            "i            PRON     I                     \n",
            "am           AUX      be                    \n",
            "meeting      VERB     meet                  \n",
            "him          PRON     he                    \n",
            "at           ADP      at                    \n",
            "meeting      VERB     meet                  \n",
            "tommorw      ADV      tommorw               \n"
          ]
        }
      ]
    },
    {
      "cell_type": "code",
      "source": [
        "doc = nlp(\"that's an enormous automobile\")\n",
        "lemma_show(doc)"
      ],
      "metadata": {
        "colab": {
          "base_uri": "https://localhost:8080/"
        },
        "id": "7b-PoKEABken",
        "outputId": "1d2067cb-2f80-4bef-a127-7bbe55cbf092"
      },
      "execution_count": null,
      "outputs": [
        {
          "output_type": "stream",
          "name": "stdout",
          "text": [
            "that         PRON     that                  \n",
            "'s           AUX      be                    \n",
            "an           DET      an                    \n",
            "enormous     ADJ      enormous              \n",
            "automobile   NOUN     automobile            \n"
          ]
        }
      ]
    },
    {
      "cell_type": "markdown",
      "source": [
        "#stop words\n",
        "- words lie 'a' and 'the' appear so frequently appeared\n",
        "- n provides a list of common \"stop words\" (like \"the,\" \"a,\" \"is\") that are often filtered out during text analysis because they contribute little to meaning"
      ],
      "metadata": {
        "id": "z5npRWLGBzyI"
      }
    },
    {
      "cell_type": "code",
      "source": [
        "import spacy\n",
        "import spacy.cli\n",
        "spacy.cli.download('en_core_web_sm')\n",
        "\n",
        "nlp = spacy.load('en_core_web_sm')"
      ],
      "metadata": {
        "colab": {
          "base_uri": "https://localhost:8080/"
        },
        "id": "3cR8Py9TC_Cu",
        "outputId": "55ab9a1d-0b43-4584-ba15-2defd389086e"
      },
      "execution_count": null,
      "outputs": [
        {
          "output_type": "stream",
          "name": "stdout",
          "text": [
            "\u001b[38;5;2m✔ Download and installation successful\u001b[0m\n",
            "You can now load the package via spacy.load('en_core_web_sm')\n",
            "\u001b[38;5;3m⚠ Restart to reload dependencies\u001b[0m\n",
            "If you are in a Jupyter or Colab notebook, you may need to restart Python in\n",
            "order to load all the package's dependencies. You can do this by selecting the\n",
            "'Restart kernel' or 'Restart runtime' option.\n"
          ]
        }
      ]
    },
    {
      "cell_type": "code",
      "source": [
        "print(nlp.Defaults.stop_words)\n",
        "print(len(nlp.Defaults.stop_words))"
      ],
      "metadata": {
        "colab": {
          "base_uri": "https://localhost:8080/"
        },
        "id": "04yL87lTDZ9h",
        "outputId": "16c8b00e-4235-40d8-eb03-3753c837ec5d"
      },
      "execution_count": null,
      "outputs": [
        {
          "output_type": "stream",
          "name": "stdout",
          "text": [
            "{'be', '‘d', 'those', 'due', 'eight', 'within', 'one', 'other', 'he', 'never', 'again', 'former', 'forty', 'meanwhile', 'full', 'front', 'only', 'these', 'ours', 'some', 'move', 'thru', \"'d\", 'or', 'name', 'who', 'do', 'otherwise', 'thereupon', 'were', 'towards', 'ourselves', 'our', 'n’t', 'someone', 'would', 'at', '’re', 'via', 'all', 'though', '‘m', 'side', 'take', 'are', 'off', 'here', 'perhaps', 'either', 'anyhow', 'seeming', '‘ve', '’m', 'see', 'back', 'several', 'thereby', 'made', \"'re\", 'per', 'please', 'everyone', 'been', 'get', 'her', 'quite', 'unless', 'whether', 'nobody', 'therefore', 'once', 'nor', 'nine', 'onto', 'whom', 'latterly', 'against', 'which', 'another', 'him', 'beside', '‘ll', 'yourself', 'well', 'we', 'everywhere', 'noone', 'himself', 'on', 'just', 'make', 'to', 'hereby', 'serious', 'seemed', 'two', 'formerly', 'amount', 'anywhere', \"'ve\", 'across', 'i', 'yourselves', 'always', 'less', 'yours', 'anyone', 'bottom', 'behind', 'next', 'whereas', 'although', 'thus', 'part', 'until', 'indeed', 'others', 'none', 'down', 'then', 'therein', 'herein', 'latter', 'first', 'because', 'into', 'no', 'anything', 'sometimes', 'there', 'something', 'below', 'already', 'during', 'you', 'whatever', 'should', 'my', 'somehow', 'sometime', 'whoever', \"'s\", 'must', 'may', 'moreover', 'call', 'each', 'hundred', 'regarding', 'give', 'out', '‘re', 'third', 'them', 'whose', 'did', 'not', 'put', 'now', 'go', 'ten', 'so', 'while', 'mine', 'any', 'us', 'beforehand', 'being', 'a', 'still', 'and', 'elsewhere', 'before', 'becoming', 'sixty', 'am', 'can', 'whence', 'besides', 'amongst', 'that', 'his', 'than', 'wherein', 'thereafter', 'neither', 'three', '’d', 'alone', 'me', 'often', 'thence', 'when', 'whole', 'various', 'very', 'everything', 'also', 'eleven', 'through', 'fifty', 'it', 'mostly', \"'m\", 'about', 'namely', 'doing', 'an', '’ll', 'since', 'except', 'empty', 'toward', 'yet', 'beyond', 'such', 'somewhere', 'throughout', 'most', 'has', 'every', 'last', 'under', 'herself', 'myself', 'have', 'further', 'became', 'whereupon', 'whereafter', 'own', 'had', 'how', 'whenever', 'much', 'ever', 'twenty', 'seem', 'however', 'really', 'few', 'in', 'anyway', 'your', \"'ll\", 'above', 'more', 'nothing', 'four', 'could', 're', 'without', 'even', 'nowhere', 'its', 'themselves', 'their', 'she', \"n't\", 'else', 'five', 'almost', 'ca', 'will', 'along', 'enough', 'the', 'of', '’s', 'this', 'among', 'hereupon', 'whither', 'is', 'least', 'using', 'was', 'wherever', 'around', 'same', 'itself', '’ve', 'used', 'say', 'both', 'but', 'might', 'from', 'keep', '‘s', 'where', 'afterwards', 'done', 'for', 'too', 'six', 'hereafter', 'does', 'rather', 'as', 'after', 'if', 'with', 'twelve', 'nevertheless', 'together', 'what', 'over', 'top', 'n‘t', 'upon', 'show', 'cannot', 'why', 'fifteen', 'become', 'hence', 'hers', 'whereby', 'up', 'by', 'becomes', 'they', 'between', 'seems', 'many'}\n",
            "326\n"
          ]
        }
      ]
    },
    {
      "cell_type": "code",
      "source": [
        "nlp.vocab['first'].is_stop"
      ],
      "metadata": {
        "colab": {
          "base_uri": "https://localhost:8080/"
        },
        "id": "RGMRM2HrDoiX",
        "outputId": "922e0ae7-05d7-4466-c417-fc8ed046f27f"
      },
      "execution_count": null,
      "outputs": [
        {
          "output_type": "execute_result",
          "data": {
            "text/plain": [
              "True"
            ]
          },
          "metadata": {},
          "execution_count": 34
        }
      ]
    },
    {
      "cell_type": "code",
      "source": [
        "nlp.vocab['srihari'].is_stop"
      ],
      "metadata": {
        "colab": {
          "base_uri": "https://localhost:8080/"
        },
        "id": "KbWMtDs6DsxO",
        "outputId": "b6755d88-45a1-4deb-d05f-0ee1f48819c0"
      },
      "execution_count": null,
      "outputs": [
        {
          "output_type": "execute_result",
          "data": {
            "text/plain": [
              "False"
            ]
          },
          "metadata": {},
          "execution_count": 39
        }
      ]
    },
    {
      "cell_type": "markdown",
      "source": [
        "#adding a stop word to the vocabulary"
      ],
      "metadata": {
        "id": "bc4VFgtAD1Ug"
      }
    },
    {
      "cell_type": "code",
      "source": [
        "nlp.Defaults.stop_words.add('Raja')\n",
        "nlp.vocab['Raja'].is_stop = True"
      ],
      "metadata": {
        "id": "FNAPsBd-ERPJ"
      },
      "execution_count": null,
      "outputs": []
    },
    {
      "cell_type": "code",
      "source": [
        "nlp.vocab['Raja'].is_stop"
      ],
      "metadata": {
        "colab": {
          "base_uri": "https://localhost:8080/"
        },
        "id": "5vUW7z-wEiyM",
        "outputId": "3ad13817-e402-4a1c-ac9b-da959691c907"
      },
      "execution_count": null,
      "outputs": [
        {
          "output_type": "execute_result",
          "data": {
            "text/plain": [
              "True"
            ]
          },
          "metadata": {},
          "execution_count": 47
        }
      ]
    },
    {
      "cell_type": "code",
      "source": [
        "len(nlp.Defaults.stop_words)"
      ],
      "metadata": {
        "colab": {
          "base_uri": "https://localhost:8080/"
        },
        "id": "a1OFPYJkEpFY",
        "outputId": "a78fd5e5-d47d-43da-ea0e-77d03542151d"
      },
      "execution_count": null,
      "outputs": [
        {
          "output_type": "execute_result",
          "data": {
            "text/plain": [
              "327"
            ]
          },
          "metadata": {},
          "execution_count": 48
        }
      ]
    },
    {
      "cell_type": "code",
      "source": [
        "#Removing a stop words\n",
        "nlp.Defaults.stop_words.remove('Raja')\n",
        "nlp.vocab['Raja'].is_stop = False"
      ],
      "metadata": {
        "id": "lafFkuurEtFw"
      },
      "execution_count": null,
      "outputs": []
    },
    {
      "cell_type": "code",
      "source": [
        "print(len(nlp.Defaults.stop_words))"
      ],
      "metadata": {
        "colab": {
          "base_uri": "https://localhost:8080/"
        },
        "id": "pHHN4OXYFiyD",
        "outputId": "84660c4c-e730-498e-f981-bafb93356da7"
      },
      "execution_count": null,
      "outputs": [
        {
          "output_type": "stream",
          "name": "stdout",
          "text": [
            "326\n"
          ]
        }
      ]
    },
    {
      "cell_type": "code",
      "source": [
        "nlp.vocab['Raja'].is_stop"
      ],
      "metadata": {
        "colab": {
          "base_uri": "https://localhost:8080/"
        },
        "id": "a5kjw_PNGLDw",
        "outputId": "0197a35c-7131-40af-fbe4-1668c19f2dd4"
      },
      "execution_count": null,
      "outputs": [
        {
          "output_type": "execute_result",
          "data": {
            "text/plain": [
              "False"
            ]
          },
          "metadata": {},
          "execution_count": 51
        }
      ]
    },
    {
      "cell_type": "code",
      "source": [
        "nlp.Defaults.stop_words.remove('only')\n",
        "nlp.vocab['only'].is_stop = False"
      ],
      "metadata": {
        "id": "H-vSQMDMGPgd"
      },
      "execution_count": null,
      "outputs": []
    },
    {
      "cell_type": "code",
      "source": [
        "nlp.vocab['only'].is_stop"
      ],
      "metadata": {
        "colab": {
          "base_uri": "https://localhost:8080/"
        },
        "id": "tkDLglSgGj2x",
        "outputId": "53e2acb4-6344-4746-ee3b-84b244ea3730"
      },
      "execution_count": null,
      "outputs": [
        {
          "output_type": "execute_result",
          "data": {
            "text/plain": [
              "False"
            ]
          },
          "metadata": {},
          "execution_count": 53
        }
      ]
    },
    {
      "cell_type": "code",
      "source": [
        "len(nlp.Defaults.stop_words)"
      ],
      "metadata": {
        "colab": {
          "base_uri": "https://localhost:8080/"
        },
        "id": "w6SnJXzIGnxd",
        "outputId": "361f4bec-e15d-40ed-9147-099f38fdd623"
      },
      "execution_count": null,
      "outputs": [
        {
          "output_type": "execute_result",
          "data": {
            "text/plain": [
              "325"
            ]
          },
          "metadata": {},
          "execution_count": 54
        }
      ]
    },
    {
      "cell_type": "markdown",
      "source": [
        "#stop words in spacy"
      ],
      "metadata": {
        "id": "KTGaHMYgGr7C"
      }
    },
    {
      "cell_type": "code",
      "source": [
        "import spacy\n",
        "import spacy.cli\n",
        "nlp = spacy.load('en_core_web_sm')"
      ],
      "metadata": {
        "id": "y7hYhOf5IrPz"
      },
      "execution_count": null,
      "outputs": []
    },
    {
      "cell_type": "code",
      "source": [
        "stop_words = nlp.Defaults.stop_words\n",
        "len(stop_words)"
      ],
      "metadata": {
        "colab": {
          "base_uri": "https://localhost:8080/"
        },
        "id": "q9Qbsd3oRoFg",
        "outputId": "17facb6e-3e13-45ea-c146-f32444fa73a4"
      },
      "execution_count": null,
      "outputs": [
        {
          "output_type": "execute_result",
          "data": {
            "text/plain": [
              "325"
            ]
          },
          "metadata": {},
          "execution_count": 56
        }
      ]
    },
    {
      "cell_type": "code",
      "source": [
        "print(sorted(list(stop_words)))"
      ],
      "metadata": {
        "colab": {
          "base_uri": "https://localhost:8080/"
        },
        "id": "JrF__3MER-ns",
        "outputId": "2c4a631c-0cb1-4931-9dc8-94958629e8cc"
      },
      "execution_count": null,
      "outputs": [
        {
          "output_type": "stream",
          "name": "stdout",
          "text": [
            "[\"'d\", \"'ll\", \"'m\", \"'re\", \"'s\", \"'ve\", 'a', 'about', 'above', 'across', 'after', 'afterwards', 'again', 'against', 'all', 'almost', 'alone', 'along', 'already', 'also', 'although', 'always', 'am', 'among', 'amongst', 'amount', 'an', 'and', 'another', 'any', 'anyhow', 'anyone', 'anything', 'anyway', 'anywhere', 'are', 'around', 'as', 'at', 'back', 'be', 'became', 'because', 'become', 'becomes', 'becoming', 'been', 'before', 'beforehand', 'behind', 'being', 'below', 'beside', 'besides', 'between', 'beyond', 'both', 'bottom', 'but', 'by', 'ca', 'call', 'can', 'cannot', 'could', 'did', 'do', 'does', 'doing', 'done', 'down', 'due', 'during', 'each', 'eight', 'either', 'eleven', 'else', 'elsewhere', 'empty', 'enough', 'even', 'ever', 'every', 'everyone', 'everything', 'everywhere', 'except', 'few', 'fifteen', 'fifty', 'first', 'five', 'for', 'former', 'formerly', 'forty', 'four', 'from', 'front', 'full', 'further', 'get', 'give', 'go', 'had', 'has', 'have', 'he', 'hence', 'her', 'here', 'hereafter', 'hereby', 'herein', 'hereupon', 'hers', 'herself', 'him', 'himself', 'his', 'how', 'however', 'hundred', 'i', 'if', 'in', 'indeed', 'into', 'is', 'it', 'its', 'itself', 'just', 'keep', 'last', 'latter', 'latterly', 'least', 'less', 'made', 'make', 'many', 'may', 'me', 'meanwhile', 'might', 'mine', 'more', 'moreover', 'most', 'mostly', 'move', 'much', 'must', 'my', 'myself', \"n't\", 'name', 'namely', 'neither', 'never', 'nevertheless', 'next', 'nine', 'no', 'nobody', 'none', 'noone', 'nor', 'not', 'nothing', 'now', 'nowhere', 'n‘t', 'n’t', 'of', 'off', 'often', 'on', 'once', 'one', 'onto', 'or', 'other', 'others', 'otherwise', 'our', 'ours', 'ourselves', 'out', 'over', 'own', 'part', 'per', 'perhaps', 'please', 'put', 'quite', 'rather', 're', 'really', 'regarding', 'same', 'say', 'see', 'seem', 'seemed', 'seeming', 'seems', 'serious', 'several', 'she', 'should', 'show', 'side', 'since', 'six', 'sixty', 'so', 'some', 'somehow', 'someone', 'something', 'sometime', 'sometimes', 'somewhere', 'still', 'such', 'take', 'ten', 'than', 'that', 'the', 'their', 'them', 'themselves', 'then', 'thence', 'there', 'thereafter', 'thereby', 'therefore', 'therein', 'thereupon', 'these', 'they', 'third', 'this', 'those', 'though', 'three', 'through', 'throughout', 'thru', 'thus', 'to', 'together', 'too', 'top', 'toward', 'towards', 'twelve', 'twenty', 'two', 'under', 'unless', 'until', 'up', 'upon', 'us', 'used', 'using', 'various', 'very', 'via', 'was', 'we', 'well', 'were', 'what', 'whatever', 'when', 'whence', 'whenever', 'where', 'whereafter', 'whereas', 'whereby', 'wherein', 'whereupon', 'wherever', 'whether', 'which', 'while', 'whither', 'who', 'whoever', 'whole', 'whom', 'whose', 'why', 'will', 'with', 'within', 'without', 'would', 'yet', 'you', 'your', 'yours', 'yourself', 'yourselves', '‘d', '‘ll', '‘m', '‘re', '‘s', '‘ve', '’d', '’ll', '’m', '’re', '’s', '’ve']\n"
          ]
        }
      ]
    },
    {
      "cell_type": "markdown",
      "source": [
        "#stop words in nltk"
      ],
      "metadata": {
        "id": "qDfHRbT3SEL_"
      }
    },
    {
      "cell_type": "code",
      "source": [
        "import nltk\n",
        "nltk.download('stopwords')"
      ],
      "metadata": {
        "colab": {
          "base_uri": "https://localhost:8080/"
        },
        "id": "_OZhLvUkSyHk",
        "outputId": "094a5c75-19ee-48a2-ada5-dc441c9241ff"
      },
      "execution_count": null,
      "outputs": [
        {
          "output_type": "stream",
          "name": "stderr",
          "text": [
            "[nltk_data] Downloading package stopwords to /root/nltk_data...\n",
            "[nltk_data]   Unzipping corpora/stopwords.zip.\n"
          ]
        },
        {
          "output_type": "execute_result",
          "data": {
            "text/plain": [
              "True"
            ]
          },
          "metadata": {},
          "execution_count": 58
        }
      ]
    },
    {
      "cell_type": "code",
      "source": [
        "from nltk.corpus import stopwords\n",
        "\n",
        "stop_words = stopwords.words('english')\n",
        "\n",
        "print(type(stop_words))\n",
        "print(\"-------------\")\n",
        "print(len(stop_words))\n",
        "print(\"-------------\")\n",
        "print(sorted(list(stop_words)))"
      ],
      "metadata": {
        "colab": {
          "base_uri": "https://localhost:8080/"
        },
        "id": "2DZ_vEbpS2m7",
        "outputId": "786acef1-5746-4c2e-bd29-f9a67da7a8cf"
      },
      "execution_count": null,
      "outputs": [
        {
          "output_type": "stream",
          "name": "stdout",
          "text": [
            "<class 'list'>\n",
            "-------------\n",
            "198\n",
            "-------------\n",
            "['a', 'about', 'above', 'after', 'again', 'against', 'ain', 'all', 'am', 'an', 'and', 'any', 'are', 'aren', \"aren't\", 'as', 'at', 'be', 'because', 'been', 'before', 'being', 'below', 'between', 'both', 'but', 'by', 'can', 'couldn', \"couldn't\", 'd', 'did', 'didn', \"didn't\", 'do', 'does', 'doesn', \"doesn't\", 'doing', 'don', \"don't\", 'down', 'during', 'each', 'few', 'for', 'from', 'further', 'had', 'hadn', \"hadn't\", 'has', 'hasn', \"hasn't\", 'have', 'haven', \"haven't\", 'having', 'he', \"he'd\", \"he'll\", \"he's\", 'her', 'here', 'hers', 'herself', 'him', 'himself', 'his', 'how', 'i', \"i'd\", \"i'll\", \"i'm\", \"i've\", 'if', 'in', 'into', 'is', 'isn', \"isn't\", 'it', \"it'd\", \"it'll\", \"it's\", 'its', 'itself', 'just', 'll', 'm', 'ma', 'me', 'mightn', \"mightn't\", 'more', 'most', 'mustn', \"mustn't\", 'my', 'myself', 'needn', \"needn't\", 'no', 'nor', 'not', 'now', 'o', 'of', 'off', 'on', 'once', 'only', 'or', 'other', 'our', 'ours', 'ourselves', 'out', 'over', 'own', 're', 's', 'same', 'shan', \"shan't\", 'she', \"she'd\", \"she'll\", \"she's\", 'should', \"should've\", 'shouldn', \"shouldn't\", 'so', 'some', 'such', 't', 'than', 'that', \"that'll\", 'the', 'their', 'theirs', 'them', 'themselves', 'then', 'there', 'these', 'they', \"they'd\", \"they'll\", \"they're\", \"they've\", 'this', 'those', 'through', 'to', 'too', 'under', 'until', 'up', 've', 'very', 'was', 'wasn', \"wasn't\", 'we', \"we'd\", \"we'll\", \"we're\", \"we've\", 'were', 'weren', \"weren't\", 'what', 'when', 'where', 'which', 'while', 'who', 'whom', 'why', 'will', 'with', 'won', \"won't\", 'wouldn', \"wouldn't\", 'y', 'you', \"you'd\", \"you'll\", \"you're\", \"you've\", 'your', 'yours', 'yourself', 'yourselves']\n"
          ]
        }
      ]
    },
    {
      "cell_type": "markdown",
      "source": [
        "#stop words in scikit-learn"
      ],
      "metadata": {
        "id": "o69f_HZnTaJz"
      }
    },
    {
      "cell_type": "code",
      "source": [
        "from sklearn.feature_extraction import text\n",
        "\n",
        "stop_words = text.ENGLISH_STOP_WORDS\n",
        "\n",
        "print(type(stop_words))\n",
        "print(\"----------------\")\n",
        "print(len(stop_words))\n",
        "print(\"----------------\")\n",
        "print(sorted(list(stop_words)))"
      ],
      "metadata": {
        "colab": {
          "base_uri": "https://localhost:8080/"
        },
        "id": "u8JS8a_aTiK3",
        "outputId": "cdd96230-df1f-446a-e458-d94642c7ebb2"
      },
      "execution_count": null,
      "outputs": [
        {
          "output_type": "stream",
          "name": "stdout",
          "text": [
            "<class 'frozenset'>\n",
            "----------------\n",
            "318\n",
            "----------------\n",
            "['a', 'about', 'above', 'across', 'after', 'afterwards', 'again', 'against', 'all', 'almost', 'alone', 'along', 'already', 'also', 'although', 'always', 'am', 'among', 'amongst', 'amoungst', 'amount', 'an', 'and', 'another', 'any', 'anyhow', 'anyone', 'anything', 'anyway', 'anywhere', 'are', 'around', 'as', 'at', 'back', 'be', 'became', 'because', 'become', 'becomes', 'becoming', 'been', 'before', 'beforehand', 'behind', 'being', 'below', 'beside', 'besides', 'between', 'beyond', 'bill', 'both', 'bottom', 'but', 'by', 'call', 'can', 'cannot', 'cant', 'co', 'con', 'could', 'couldnt', 'cry', 'de', 'describe', 'detail', 'do', 'done', 'down', 'due', 'during', 'each', 'eg', 'eight', 'either', 'eleven', 'else', 'elsewhere', 'empty', 'enough', 'etc', 'even', 'ever', 'every', 'everyone', 'everything', 'everywhere', 'except', 'few', 'fifteen', 'fifty', 'fill', 'find', 'fire', 'first', 'five', 'for', 'former', 'formerly', 'forty', 'found', 'four', 'from', 'front', 'full', 'further', 'get', 'give', 'go', 'had', 'has', 'hasnt', 'have', 'he', 'hence', 'her', 'here', 'hereafter', 'hereby', 'herein', 'hereupon', 'hers', 'herself', 'him', 'himself', 'his', 'how', 'however', 'hundred', 'i', 'ie', 'if', 'in', 'inc', 'indeed', 'interest', 'into', 'is', 'it', 'its', 'itself', 'keep', 'last', 'latter', 'latterly', 'least', 'less', 'ltd', 'made', 'many', 'may', 'me', 'meanwhile', 'might', 'mill', 'mine', 'more', 'moreover', 'most', 'mostly', 'move', 'much', 'must', 'my', 'myself', 'name', 'namely', 'neither', 'never', 'nevertheless', 'next', 'nine', 'no', 'nobody', 'none', 'noone', 'nor', 'not', 'nothing', 'now', 'nowhere', 'of', 'off', 'often', 'on', 'once', 'one', 'only', 'onto', 'or', 'other', 'others', 'otherwise', 'our', 'ours', 'ourselves', 'out', 'over', 'own', 'part', 'per', 'perhaps', 'please', 'put', 'rather', 're', 'same', 'see', 'seem', 'seemed', 'seeming', 'seems', 'serious', 'several', 'she', 'should', 'show', 'side', 'since', 'sincere', 'six', 'sixty', 'so', 'some', 'somehow', 'someone', 'something', 'sometime', 'sometimes', 'somewhere', 'still', 'such', 'system', 'take', 'ten', 'than', 'that', 'the', 'their', 'them', 'themselves', 'then', 'thence', 'there', 'thereafter', 'thereby', 'therefore', 'therein', 'thereupon', 'these', 'they', 'thick', 'thin', 'third', 'this', 'those', 'though', 'three', 'through', 'throughout', 'thru', 'thus', 'to', 'together', 'too', 'top', 'toward', 'towards', 'twelve', 'twenty', 'two', 'un', 'under', 'until', 'up', 'upon', 'us', 'very', 'via', 'was', 'we', 'well', 'were', 'what', 'whatever', 'when', 'whence', 'whenever', 'where', 'whereafter', 'whereas', 'whereby', 'wherein', 'whereupon', 'wherever', 'whether', 'which', 'while', 'whither', 'who', 'whoever', 'whole', 'whom', 'whose', 'why', 'will', 'with', 'within', 'without', 'would', 'yet', 'you', 'your', 'yours', 'yourself', 'yourselves']\n"
          ]
        }
      ]
    },
    {
      "cell_type": "markdown",
      "source": [
        "#Vocabulary and Matching"
      ],
      "metadata": {
        "id": "Vc1G_aieTg4L"
      }
    },
    {
      "cell_type": "markdown",
      "source": [
        "#rule based matching\n",
        " -  In spaCy, rule-based matching uses predefined patterns to identify specific words, phrases, or linguistic features within text, offering precision, clarity, and efficiency without requiring training data. You can define these patterns using the Matcher class, allowing you to target exactly what you need with tailored rules"
      ],
      "metadata": {
        "id": "CLbkoSGI4ls1"
      }
    },
    {
      "cell_type": "code",
      "source": [
        "import spacy.cli\n",
        "spacy.cli.download(\"en_core_web_sm\")"
      ],
      "metadata": {
        "colab": {
          "base_uri": "https://localhost:8080/"
        },
        "id": "ryaCp1fu5I3n",
        "outputId": "e4bf217b-df43-4fe5-e2dd-8b1275625519"
      },
      "execution_count": null,
      "outputs": [
        {
          "output_type": "stream",
          "name": "stdout",
          "text": [
            "\u001b[38;5;2m✔ Download and installation successful\u001b[0m\n",
            "You can now load the package via spacy.load('en_core_web_sm')\n",
            "\u001b[38;5;3m⚠ Restart to reload dependencies\u001b[0m\n",
            "If you are in a Jupyter or Colab notebook, you may need to restart Python in\n",
            "order to load all the package's dependencies. You can do this by selecting the\n",
            "'Restart kernel' or 'Restart runtime' option.\n"
          ]
        }
      ]
    },
    {
      "cell_type": "code",
      "source": [
        "import spacy\n",
        "\n",
        "nlp = spacy.load('en_core_web_sm')"
      ],
      "metadata": {
        "id": "D7shS2zA5Qau"
      },
      "execution_count": null,
      "outputs": []
    },
    {
      "cell_type": "code",
      "source": [
        "from spacy.matcher import Matcher\n",
        "\n",
        "matcher = Matcher(nlp.vocab)"
      ],
      "metadata": {
        "id": "f3uc0gdX5X1r"
      },
      "execution_count": null,
      "outputs": []
    },
    {
      "cell_type": "markdown",
      "source": [
        "#define patterns\n",
        "- \"patterns\" refer to recurring structures, sequences, or relationships within text data that machine learning algorithms can identify and use for tasks like text classification, machine translation, or sentiment analysis."
      ],
      "metadata": {
        "id": "X8oKpTtB5-DJ"
      }
    },
    {
      "cell_type": "code",
      "source": [
        "p1 = [{'LOWER':'quickbrownfox'}]\n",
        "p2 = [{'LOWER':'quick'},{'IS_PUNCT':True},{'LOWER':'brown'},{'IS_PUNCT':True},{'LOWER':'fox'}]\n",
        "p3 = [{'LOWER':'quick'},{'LOWER':'brown'},{'LOWER':'fox'}]\n",
        "p4 = [{'LOWER':'quick'},{'LOWER':'brownfox'}]"
      ],
      "metadata": {
        "id": "tQC3XEjiTZZR"
      },
      "execution_count": null,
      "outputs": []
    },
    {
      "cell_type": "code",
      "source": [
        "matcher.add('QBF',[p1, p2, p3, p4])  # Pass None for on_match, but keep patterns in a list"
      ],
      "metadata": {
        "id": "crKXWlMqUrxP"
      },
      "execution_count": null,
      "outputs": []
    },
    {
      "cell_type": "code",
      "source": [
        "doc = nlp('the quick-brown-fox jumped over the lazy dog. the quick brown fox eats well. \\\n",
        "the quickbrownfox is dead . the dog misses the quick brownfox')"
      ],
      "metadata": {
        "id": "mDxe688zVE2o"
      },
      "execution_count": null,
      "outputs": []
    },
    {
      "cell_type": "code",
      "source": [
        "found_match = matcher(doc)\n",
        "print(found_match)"
      ],
      "metadata": {
        "colab": {
          "base_uri": "https://localhost:8080/"
        },
        "id": "4OHNcumCZjt-",
        "outputId": "05390622-2506-433b-93ab-8d134b19e0fe"
      },
      "execution_count": null,
      "outputs": [
        {
          "output_type": "stream",
          "name": "stdout",
          "text": [
            "[(12825528024649263697, 1, 6), (12825528024649263697, 13, 16), (12825528024649263697, 20, 21), (12825528024649263697, 28, 30)]\n"
          ]
        }
      ]
    },
    {
      "cell_type": "code",
      "source": [
        "for match_id ,start,end in found_match:\n",
        "  string_id = nlp.vocab.strings[match_id]\n",
        "  span = doc[start:end]\n",
        "  print(match_id,string_id,start,end,span.text)"
      ],
      "metadata": {
        "colab": {
          "base_uri": "https://localhost:8080/"
        },
        "id": "Azrc3GyfZtuA",
        "outputId": "22e06f75-64bb-4ee8-bafa-4fce0d91c85c"
      },
      "execution_count": null,
      "outputs": [
        {
          "output_type": "stream",
          "name": "stdout",
          "text": [
            "12825528024649263697 QBF 1 6 quick-brown-fox\n",
            "12825528024649263697 QBF 13 16 quick brown fox\n",
            "12825528024649263697 QBF 20 21 quickbrownfox\n",
            "12825528024649263697 QBF 28 30 quick brownfox\n"
          ]
        }
      ]
    },
    {
      "cell_type": "code",
      "source": [
        "matcher.remove('QBF')"
      ],
      "metadata": {
        "id": "bKVVdxBZaR7y"
      },
      "execution_count": null,
      "outputs": []
    },
    {
      "cell_type": "code",
      "source": [
        "p1 = [{'LOWER':'quick'},{'IS_PUNCT':True, 'OP':'*'},{'LOWER':'brown'},{'IS_PUNCT':True, 'OP':'*'},{'LOWER':'fox'}]\n",
        "# p4 = [{'LOWER':'quick'}] #,{'LOWER':'brownfox'}]"
      ],
      "metadata": {
        "id": "jI1Xl_pmak4n"
      },
      "execution_count": null,
      "outputs": []
    },
    {
      "cell_type": "code",
      "source": [
        "matcher.add('QBF',[p1])"
      ],
      "metadata": {
        "id": "EDk99ObGbYcj"
      },
      "execution_count": null,
      "outputs": []
    },
    {
      "cell_type": "code",
      "source": [
        "doc = nlp('the quick--brown--fox jumps over the quick-brown---fox quick brown fox')\n",
        "\n",
        "found_match = matcher(doc)"
      ],
      "metadata": {
        "id": "QyNySbZrbln_"
      },
      "execution_count": null,
      "outputs": []
    },
    {
      "cell_type": "code",
      "source": [
        "for match_id ,start,end in found_match:\n",
        "  string_id = nlp.vocab.strings[match_id]\n",
        "  span = doc[start:end]\n",
        "  print(match_id,string_id,start,end,span.text)"
      ],
      "metadata": {
        "colab": {
          "base_uri": "https://localhost:8080/"
        },
        "id": "eQ08y08Ncbbv",
        "outputId": "2a7d5de9-f9fa-4249-97e4-604a70a09aa4"
      },
      "execution_count": null,
      "outputs": [
        {
          "output_type": "stream",
          "name": "stdout",
          "text": [
            "12825528024649263697 QBF 1 2 quick\n",
            "12825528024649263697 QBF 1 6 quick--brown--fox\n",
            "12825528024649263697 QBF 9 10 quick\n",
            "12825528024649263697 QBF 9 14 quick-brown---fox\n",
            "12825528024649263697 QBF 14 15 quick\n",
            "12825528024649263697 QBF 14 17 quick brown fox\n"
          ]
        }
      ]
    },
    {
      "cell_type": "markdown",
      "source": [
        "#parts of speech sing spacy"
      ],
      "metadata": {
        "id": "2rnmEeqEcpef"
      }
    },
    {
      "cell_type": "code",
      "source": [
        "import spacy\n",
        "nlp = spacy.load(\"en_core_web_sm\")"
      ],
      "metadata": {
        "id": "OOcdwFMpqqpz"
      },
      "execution_count": 62,
      "outputs": []
    },
    {
      "cell_type": "code",
      "source": [
        "doc = nlp('the quick brown fox jumps over the lazy dog')"
      ],
      "metadata": {
        "id": "Frz3sutHqw6T"
      },
      "execution_count": 84,
      "outputs": []
    },
    {
      "cell_type": "code",
      "source": [
        "for token in doc:\n",
        "  print(token.text,token.pos_,token.tag_,spacy.explain(token.tag_))"
      ],
      "metadata": {
        "colab": {
          "base_uri": "https://localhost:8080/"
        },
        "id": "9wwvTA7Iq9ab",
        "outputId": "38a573be-2f82-4034-91a0-ba705d4d535e"
      },
      "execution_count": 64,
      "outputs": [
        {
          "output_type": "stream",
          "name": "stdout",
          "text": [
            "the DET DT determiner\n",
            "quick ADJ JJ adjective (English), other noun-modifier (Chinese)\n",
            "brown ADJ JJ adjective (English), other noun-modifier (Chinese)\n",
            "fox NOUN NN noun, singular or mass\n",
            "jumps VERB VBZ verb, 3rd person singular present\n",
            "over ADP IN conjunction, subordinating or preposition\n",
            "the DET DT determiner\n",
            "lazy ADJ JJ adjective (English), other noun-modifier (Chinese)\n",
            "dog NOUN NN noun, singular or mass\n"
          ]
        }
      ]
    },
    {
      "cell_type": "code",
      "source": [
        "for token in doc:\n",
        "  print(f'{token.text:{10}} {token.pos_:{10}} {token.tag_:{10}} {spacy.explain(token.tag_)}')"
      ],
      "metadata": {
        "colab": {
          "base_uri": "https://localhost:8080/"
        },
        "id": "YgLqPWvdrMdm",
        "outputId": "0d945b53-f320-4c35-ead3-4c0f3c36418f"
      },
      "execution_count": 65,
      "outputs": [
        {
          "output_type": "stream",
          "name": "stdout",
          "text": [
            "the        DET        DT         determiner\n",
            "quick      ADJ        JJ         adjective (English), other noun-modifier (Chinese)\n",
            "brown      ADJ        JJ         adjective (English), other noun-modifier (Chinese)\n",
            "fox        NOUN       NN         noun, singular or mass\n",
            "jumps      VERB       VBZ        verb, 3rd person singular present\n",
            "over       ADP        IN         conjunction, subordinating or preposition\n",
            "the        DET        DT         determiner\n",
            "lazy       ADJ        JJ         adjective (English), other noun-modifier (Chinese)\n",
            "dog        NOUN       NN         noun, singular or mass\n"
          ]
        }
      ]
    },
    {
      "cell_type": "code",
      "source": [
        "doc = nlp('I read books on NLP')\n",
        "r = doc[1]\n",
        "r"
      ],
      "metadata": {
        "colab": {
          "base_uri": "https://localhost:8080/"
        },
        "id": "KJAbO4QwrYOb",
        "outputId": "47ec2dad-fa3e-4a36-81ae-daa53f6e39a8"
      },
      "execution_count": 66,
      "outputs": [
        {
          "output_type": "execute_result",
          "data": {
            "text/plain": [
              "read"
            ]
          },
          "metadata": {},
          "execution_count": 66
        }
      ]
    },
    {
      "cell_type": "code",
      "source": [
        "print(f'{r.text:{6}}, {r.pos_:{8}} ,{r.tag_:{8}},{spacy.explain(r.tag_)}')"
      ],
      "metadata": {
        "colab": {
          "base_uri": "https://localhost:8080/"
        },
        "id": "tRydu5scsFcT",
        "outputId": "5b062bd0-604a-4a8f-e27e-791a0e045625"
      },
      "execution_count": 68,
      "outputs": [
        {
          "output_type": "stream",
          "name": "stdout",
          "text": [
            "read  , VERB     ,VBP     ,verb, non-3rd person singular present\n"
          ]
        }
      ]
    },
    {
      "cell_type": "code",
      "source": [
        "doc2 =nlp(\"i am reading a book on nlp\")\n",
        "r = doc2[2]\n",
        "r"
      ],
      "metadata": {
        "colab": {
          "base_uri": "https://localhost:8080/"
        },
        "id": "VxUuZwmUsXbq",
        "outputId": "05f93e67-819a-46fd-bef1-64d9baa314a7"
      },
      "execution_count": 82,
      "outputs": [
        {
          "output_type": "execute_result",
          "data": {
            "text/plain": [
              "reading"
            ]
          },
          "metadata": {},
          "execution_count": 82
        }
      ]
    },
    {
      "cell_type": "code",
      "source": [
        "print(f'{r.text:{6}}, {r.pos_:{8}} ,{r.tag_:{8}},{spacy.explain(r.tag_)}')"
      ],
      "metadata": {
        "colab": {
          "base_uri": "https://localhost:8080/"
        },
        "id": "Q2aQokFatykb",
        "outputId": "a0d9b0f4-a769-45a3-b660-1620df6e8f60"
      },
      "execution_count": 83,
      "outputs": [
        {
          "output_type": "stream",
          "name": "stdout",
          "text": [
            "reading, VERB     ,VBG     ,verb, gerund or present participle\n"
          ]
        }
      ]
    },
    {
      "cell_type": "code",
      "source": [
        "for token in doc2:\n",
        "  print(f'{token.text:{10}} {token.pos_:{10}} {token.tag_:{10}} {spacy.explain(token.tag_)}')"
      ],
      "metadata": {
        "colab": {
          "base_uri": "https://localhost:8080/"
        },
        "id": "aepPgwVZs5nr",
        "outputId": "7e3fcc9c-2756-4a54-9ec9-4658091234df"
      },
      "execution_count": 71,
      "outputs": [
        {
          "output_type": "stream",
          "name": "stdout",
          "text": [
            "i          PRON       PRP        pronoun, personal\n",
            "am         AUX        VBP        verb, non-3rd person singular present\n",
            "reading    VERB       VBG        verb, gerund or present participle\n",
            "a          DET        DT         determiner\n",
            "book       NOUN       NN         noun, singular or mass\n",
            "on         ADP        IN         conjunction, subordinating or preposition\n",
            "nlp        NOUN       NN         noun, singular or mass\n"
          ]
        }
      ]
    },
    {
      "cell_type": "code",
      "source": [
        "spacy.explain('VBP')"
      ],
      "metadata": {
        "colab": {
          "base_uri": "https://localhost:8080/",
          "height": 35
        },
        "id": "n3fFOz9Ms-tp",
        "outputId": "ac816ab4-180c-49cf-884c-ddb5bdb08218"
      },
      "execution_count": 74,
      "outputs": [
        {
          "output_type": "execute_result",
          "data": {
            "text/plain": [
              "'verb, non-3rd person singular present'"
            ],
            "application/vnd.google.colaboratory.intrinsic+json": {
              "type": "string"
            }
          },
          "metadata": {},
          "execution_count": 74
        }
      ]
    },
    {
      "cell_type": "markdown",
      "source": [
        "#count of POS tags\n",
        " - Doc.count_by() return disctonary objects.keys"
      ],
      "metadata": {
        "id": "p5WPyvjstHNB"
      }
    },
    {
      "cell_type": "code",
      "source": [
        "doc = nlp(\"the quick brown fox jumps over the lazy dog\")\n",
        "pos_count = doc.count_by(spacy.attrs.POS)\n",
        "pos_count"
      ],
      "metadata": {
        "colab": {
          "base_uri": "https://localhost:8080/"
        },
        "id": "bOEG65MzuZbJ",
        "outputId": "2def0227-742d-4ab7-cc41-8876291849d9"
      },
      "execution_count": 86,
      "outputs": [
        {
          "output_type": "execute_result",
          "data": {
            "text/plain": [
              "{90: 2, 84: 3, 92: 2, 100: 1, 85: 1}"
            ]
          },
          "metadata": {},
          "execution_count": 86
        }
      ]
    },
    {
      "cell_type": "code",
      "source": [
        "doc.vocab[84].text"
      ],
      "metadata": {
        "colab": {
          "base_uri": "https://localhost:8080/",
          "height": 35
        },
        "id": "wnUOmLUEvOlh",
        "outputId": "9542e49f-0450-4e2b-8b3b-2ca76d57c5bc"
      },
      "execution_count": 94,
      "outputs": [
        {
          "output_type": "execute_result",
          "data": {
            "text/plain": [
              "'ADJ'"
            ],
            "application/vnd.google.colaboratory.intrinsic+json": {
              "type": "string"
            }
          },
          "metadata": {},
          "execution_count": 94
        }
      ]
    },
    {
      "cell_type": "code",
      "source": [
        "spacy.explain('ADJ')"
      ],
      "metadata": {
        "colab": {
          "base_uri": "https://localhost:8080/",
          "height": 35
        },
        "id": "yUVoNwU-voRP",
        "outputId": "8d914817-7b33-4deb-db07-1b6ba6ee6f96"
      },
      "execution_count": 95,
      "outputs": [
        {
          "output_type": "execute_result",
          "data": {
            "text/plain": [
              "'adjective'"
            ],
            "application/vnd.google.colaboratory.intrinsic+json": {
              "type": "string"
            }
          },
          "metadata": {},
          "execution_count": 95
        }
      ]
    },
    {
      "cell_type": "code",
      "source": [
        "for k,v in sorted(pos_count.items()):\n",
        "  print(f'{k} {doc.vocab[k].text:{10}}:{v}')"
      ],
      "metadata": {
        "colab": {
          "base_uri": "https://localhost:8080/"
        },
        "id": "R4C3lln6vvN7",
        "outputId": "fd387828-dfe4-40fa-a356-c9705b367ad0"
      },
      "execution_count": 97,
      "outputs": [
        {
          "output_type": "stream",
          "name": "stdout",
          "text": [
            "84 ADJ       :3\n",
            "85 ADP       :1\n",
            "90 DET       :2\n",
            "92 NOUN      :2\n",
            "100 VERB      :1\n"
          ]
        }
      ]
    },
    {
      "cell_type": "code",
      "source": [
        "spacy.explain('PART')"
      ],
      "metadata": {
        "colab": {
          "base_uri": "https://localhost:8080/",
          "height": 35
        },
        "id": "tDlObk9BwTna",
        "outputId": "7d977005-c53b-4e7d-fc4d-6c15222c0005"
      },
      "execution_count": 100,
      "outputs": [
        {
          "output_type": "execute_result",
          "data": {
            "text/plain": [
              "'particle'"
            ],
            "application/vnd.google.colaboratory.intrinsic+json": {
              "type": "string"
            }
          },
          "metadata": {},
          "execution_count": 100
        }
      ]
    },
    {
      "cell_type": "code",
      "source": [
        "tag_counts = doc.count_by(spacy.attrs.TAG)\n",
        "\n",
        "tag_counts"
      ],
      "metadata": {
        "colab": {
          "base_uri": "https://localhost:8080/"
        },
        "id": "TOPOc7PlwgXC",
        "outputId": "344ad279-fb01-46e0-83ea-b41a1b0cbb0e"
      },
      "execution_count": 101,
      "outputs": [
        {
          "output_type": "execute_result",
          "data": {
            "text/plain": [
              "{15267657372422890137: 2,\n",
              " 10554686591937588953: 3,\n",
              " 15308085513773655218: 2,\n",
              " 13927759927860985106: 1,\n",
              " 1292078113972184607: 1}"
            ]
          },
          "metadata": {},
          "execution_count": 101
        }
      ]
    },
    {
      "cell_type": "code",
      "source": [
        "for k,v in sorted(tag_counts.items()):\n",
        "  print(f'{k} {doc.vocab[k].text:{10}} :{v}')"
      ],
      "metadata": {
        "colab": {
          "base_uri": "https://localhost:8080/"
        },
        "id": "vAlpfmVDwzl0",
        "outputId": "d54ac178-63b6-4452-c87d-ee14671f94da"
      },
      "execution_count": 102,
      "outputs": [
        {
          "output_type": "stream",
          "name": "stdout",
          "text": [
            "1292078113972184607 IN         :1\n",
            "10554686591937588953 JJ         :3\n",
            "13927759927860985106 VBZ        :1\n",
            "15267657372422890137 DT         :2\n",
            "15308085513773655218 NN         :2\n"
          ]
        }
      ]
    },
    {
      "cell_type": "code",
      "source": [
        "spacy.explain('IN')"
      ],
      "metadata": {
        "colab": {
          "base_uri": "https://localhost:8080/",
          "height": 35
        },
        "id": "HywqybmyxBuQ",
        "outputId": "5f95102c-6f56-4c25-cb1e-6b4a97ee7f63"
      },
      "execution_count": 103,
      "outputs": [
        {
          "output_type": "execute_result",
          "data": {
            "text/plain": [
              "'conjunction, subordinating or preposition'"
            ],
            "application/vnd.google.colaboratory.intrinsic+json": {
              "type": "string"
            }
          },
          "metadata": {},
          "execution_count": 103
        }
      ]
    },
    {
      "cell_type": "code",
      "source": [
        "spacy.explain('JJ')"
      ],
      "metadata": {
        "colab": {
          "base_uri": "https://localhost:8080/",
          "height": 35
        },
        "id": "0NRfOrNexK3M",
        "outputId": "ba55464d-ebd8-4629-b169-afd48f10c005"
      },
      "execution_count": 104,
      "outputs": [
        {
          "output_type": "execute_result",
          "data": {
            "text/plain": [
              "'adjective (English), other noun-modifier (Chinese)'"
            ],
            "application/vnd.google.colaboratory.intrinsic+json": {
              "type": "string"
            }
          },
          "metadata": {},
          "execution_count": 104
        }
      ]
    },
    {
      "cell_type": "code",
      "source": [
        "spacy.explain('VBZ')"
      ],
      "metadata": {
        "colab": {
          "base_uri": "https://localhost:8080/",
          "height": 35
        },
        "id": "bIhvmrphxPb5",
        "outputId": "1c5d7c6c-913b-4a28-e440-e0e783876087"
      },
      "execution_count": 106,
      "outputs": [
        {
          "output_type": "execute_result",
          "data": {
            "text/plain": [
              "'verb, 3rd person singular present'"
            ],
            "application/vnd.google.colaboratory.intrinsic+json": {
              "type": "string"
            }
          },
          "metadata": {},
          "execution_count": 106
        }
      ]
    },
    {
      "cell_type": "markdown",
      "source": [
        "#Named Entity Recognization"
      ],
      "metadata": {
        "id": "po90A893xTJw"
      }
    },
    {
      "cell_type": "code",
      "source": [
        "import spacy\n",
        "nlp = spacy.load('en_core_web_sm')"
      ],
      "metadata": {
        "id": "_BuTkz6Hy3nO"
      },
      "execution_count": 107,
      "outputs": []
    },
    {
      "cell_type": "code",
      "source": [
        "doc = nlp('apple is looking at U.K. startup for $6 billion')\n",
        "\n",
        "for token in doc.ents:\n",
        "  print(token.text +'--->'+token.label_ + '---->'+ str(spacy.explain(token.label_)))"
      ],
      "metadata": {
        "colab": {
          "base_uri": "https://localhost:8080/"
        },
        "id": "es_ghljpy_ow",
        "outputId": "94514a1d-50eb-4873-d2cf-abbc12362d38"
      },
      "execution_count": 111,
      "outputs": [
        {
          "output_type": "stream",
          "name": "stdout",
          "text": [
            "apple--->ORG---->Companies, agencies, institutions, etc.\n",
            "U.K.--->GPE---->Countries, cities, states\n",
            "$6 billion--->MONEY---->Monetary values, including unit\n"
          ]
        }
      ]
    },
    {
      "cell_type": "code",
      "source": [
        "def show_entites(doc):\n",
        "  if doc.ents:\n",
        "    for ent in doc.ents:\n",
        "      print(ent.text + ' - ' + ent.label_ + ' - ' + str(spacy.explain(ent.label_)))\n",
        "  else:\n",
        "    print('no entities found')\n",
        "  return ''"
      ],
      "metadata": {
        "id": "WnqQNP1fzgjb"
      },
      "execution_count": 116,
      "outputs": []
    },
    {
      "cell_type": "code",
      "source": [
        "doc1 = nlp(\"apple is looking at U.K. startup for $6 billion\")\n",
        "print(show_entites(doc))"
      ],
      "metadata": {
        "colab": {
          "base_uri": "https://localhost:8080/"
        },
        "id": "QYen1ipi0LUs",
        "outputId": "0a3765d2-5852-4c16-91f2-2475df3a3ef9"
      },
      "execution_count": 133,
      "outputs": [
        {
          "output_type": "stream",
          "name": "stdout",
          "text": [
            "koduri srihari - PERSON - People, including fictional\n",
            "\n"
          ]
        }
      ]
    },
    {
      "cell_type": "markdown",
      "source": [
        "#adding entity to the spacy library"
      ],
      "metadata": {
        "id": "zQBQ7Krw0mvr"
      }
    },
    {
      "cell_type": "code",
      "source": [
        "doc = nlp(\"i am koduri srihari\")\n",
        "doc[-1]"
      ],
      "metadata": {
        "colab": {
          "base_uri": "https://localhost:8080/"
        },
        "id": "x_4AEsoN10O5",
        "outputId": "a70b588f-c874-4730-f47b-391d533e4af5"
      },
      "execution_count": 122,
      "outputs": [
        {
          "output_type": "execute_result",
          "data": {
            "text/plain": [
              "srihari"
            ]
          },
          "metadata": {},
          "execution_count": 122
        }
      ]
    },
    {
      "cell_type": "code",
      "source": [
        "from spacy.tokens import Span\n",
        "\n",
        "org = doc.vocab.strings['ORG']"
      ],
      "metadata": {
        "id": "N1QrPevw1TJ6"
      },
      "execution_count": 123,
      "outputs": []
    },
    {
      "cell_type": "code",
      "source": [
        "org"
      ],
      "metadata": {
        "colab": {
          "base_uri": "https://localhost:8080/"
        },
        "id": "ZWELMOde1kHl",
        "outputId": "7873517a-40c6-4534-e096-ed6ef92ba53f"
      },
      "execution_count": 124,
      "outputs": [
        {
          "output_type": "execute_result",
          "data": {
            "text/plain": [
              "383"
            ]
          },
          "metadata": {},
          "execution_count": 124
        }
      ]
    },
    {
      "cell_type": "code",
      "source": [
        "new_ent =Span(doc,2,4,label=org)\n",
        "new_ent"
      ],
      "metadata": {
        "colab": {
          "base_uri": "https://localhost:8080/"
        },
        "id": "KJY5tWuJ1mk9",
        "outputId": "b54a3d0f-8773-4a42-9dc3-b13a7b3f826c"
      },
      "execution_count": 127,
      "outputs": [
        {
          "output_type": "execute_result",
          "data": {
            "text/plain": [
              "koduri srihari"
            ]
          },
          "metadata": {},
          "execution_count": 127
        }
      ]
    },
    {
      "cell_type": "code",
      "source": [
        "show_entites(doc)"
      ],
      "metadata": {
        "colab": {
          "base_uri": "https://localhost:8080/",
          "height": 52
        },
        "id": "cF9BLvMT2D6G",
        "outputId": "88e314e7-3a72-4a91-e494-bb98446540b5"
      },
      "execution_count": 129,
      "outputs": [
        {
          "output_type": "stream",
          "name": "stdout",
          "text": [
            "koduri srihari - PERSON - People, including fictional\n"
          ]
        },
        {
          "output_type": "execute_result",
          "data": {
            "text/plain": [
              "''"
            ],
            "application/vnd.google.colaboratory.intrinsic+json": {
              "type": "string"
            }
          },
          "metadata": {},
          "execution_count": 129
        }
      ]
    },
    {
      "cell_type": "code",
      "source": [
        "from spacy import displacy\n",
        "\n",
        "displacy.render(doc,style='ent',jupyter=True)"
      ],
      "metadata": {
        "colab": {
          "base_uri": "https://localhost:8080/",
          "height": 52
        },
        "id": "2ce8vBWI2sD0",
        "outputId": "da597902-57bc-47a8-cfe5-5e033737684f"
      },
      "execution_count": 131,
      "outputs": [
        {
          "output_type": "display_data",
          "data": {
            "text/plain": [
              "<IPython.core.display.HTML object>"
            ],
            "text/html": [
              "<span class=\"tex2jax_ignore\"><div class=\"entities\" style=\"line-height: 2.5; direction: ltr\">i am \n",
              "<mark class=\"entity\" style=\"background: #aa9cfc; padding: 0.45em 0.6em; margin: 0 0.25em; line-height: 1; border-radius: 0.35em;\">\n",
              "    koduri srihari\n",
              "    <span style=\"font-size: 0.8em; font-weight: bold; line-height: 1; border-radius: 0.35em; vertical-align: middle; margin-left: 0.5rem\">PERSON</span>\n",
              "</mark>\n",
              "</div></span>"
            ]
          },
          "metadata": {}
        }
      ]
    },
    {
      "cell_type": "code",
      "source": [
        "options = {'ents':['ORG','PERSON']}\n",
        "displacy.render(doc1,style='ent',jupyter=True,options=options)"
      ],
      "metadata": {
        "colab": {
          "base_uri": "https://localhost:8080/",
          "height": 52
        },
        "id": "LTjh-fPK3rxs",
        "outputId": "2abf7ac5-e386-45dd-fd07-3bdaa906ac40"
      },
      "execution_count": 134,
      "outputs": [
        {
          "output_type": "display_data",
          "data": {
            "text/plain": [
              "<IPython.core.display.HTML object>"
            ],
            "text/html": [
              "<span class=\"tex2jax_ignore\"><div class=\"entities\" style=\"line-height: 2.5; direction: ltr\">\n",
              "<mark class=\"entity\" style=\"background: #7aecec; padding: 0.45em 0.6em; margin: 0 0.25em; line-height: 1; border-radius: 0.35em;\">\n",
              "    apple\n",
              "    <span style=\"font-size: 0.8em; font-weight: bold; line-height: 1; border-radius: 0.35em; vertical-align: middle; margin-left: 0.5rem\">ORG</span>\n",
              "</mark>\n",
              " is looking at U.K. startup for $6 billion</div></span>"
            ]
          },
          "metadata": {}
        }
      ]
    },
    {
      "cell_type": "code",
      "source": [],
      "metadata": {
        "id": "MQBt1Hth4-C8"
      },
      "execution_count": null,
      "outputs": []
    }
  ]
}